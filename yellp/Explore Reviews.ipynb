{
 "cells": [
  {
   "cell_type": "code",
   "execution_count": 2,
   "metadata": {
    "collapsed": true
   },
   "outputs": [],
   "source": [
    "%matplotlib inline\n",
    "import pandas as pd\n",
    "import numpy as np\n",
    "import pickle\n",
    "import matplotlib.pyplot as plt"
   ]
  },
  {
   "cell_type": "code",
   "execution_count": 3,
   "metadata": {
    "collapsed": true
   },
   "outputs": [],
   "source": [
    "reviews_df = pd.read_csv('review_data_10_percent.csv')\n",
    "file = open(\"1000_vector_reviews.pkl\",'r')"
   ]
  },
  {
   "cell_type": "code",
   "execution_count": null,
   "metadata": {
    "collapsed": true
   },
   "outputs": [],
   "source": []
  },
  {
   "cell_type": "code",
   "execution_count": 10,
   "metadata": {
    "collapsed": false
   },
   "outputs": [
    {
     "data": {
      "text/plain": [
       "<matplotlib.axes._subplots.AxesSubplot at 0x109b6cf98>"
      ]
     },
     "execution_count": 10,
     "metadata": {},
     "output_type": "execute_result"
    },
    {
     "data": {
      "image/png": "[encoded data removed]",
      "text/plain": [
       "<matplotlib.figure.Figure at 0x109b81be0>"
      ]
     },
     "metadata": {},
     "output_type": "display_data"
    }
   ],
   "source": [
    "reviews_df.stars[reviews_df.business_id == '4bEjOyTaDG24SY5TxsaUNQ'].hist()"
   ]
  },
  {
   "cell_type": "code",
   "execution_count": 7,
   "metadata": {
    "collapsed": false
   },
   "outputs": [
    {
     "data": {
      "text/html": [
       "<div>\n",
       "<table border=\"1\" class=\"dataframe\">\n",
       "  <thead>\n",
       "    <tr style=\"text-align: right;\">\n",
       "      <th></th>\n",
       "      <th>user_id</th>\n",
       "      <th>review_id</th>\n",
       "      <th>text</th>\n",
       "      <th>votes.cool</th>\n",
       "      <th>votes.funny</th>\n",
       "      <th>stars</th>\n",
       "      <th>date</th>\n",
       "      <th>type</th>\n",
       "      <th>votes.useful</th>\n",
       "    </tr>\n",
       "    <tr>\n",
       "      <th>business_id</th>\n",
       "      <th></th>\n",
       "      <th></th>\n",
       "      <th></th>\n",
       "      <th></th>\n",
       "      <th></th>\n",
       "      <th></th>\n",
       "      <th></th>\n",
       "      <th></th>\n",
       "      <th></th>\n",
       "    </tr>\n",
       "  </thead>\n",
       "  <tbody>\n",
       "    <tr>\n",
       "      <th>4bEjOyTaDG24SY5TxsaUNQ</th>\n",
       "      <td>511</td>\n",
       "      <td>511</td>\n",
       "      <td>511</td>\n",
       "      <td>511</td>\n",
       "      <td>511</td>\n",
       "      <td>511</td>\n",
       "      <td>511</td>\n",
       "      <td>511</td>\n",
       "      <td>511</td>\n",
       "    </tr>\n",
       "    <tr>\n",
       "      <th>zt1TpTuJ6y9n551sw9TaEg</th>\n",
       "      <td>400</td>\n",
       "      <td>400</td>\n",
       "      <td>400</td>\n",
       "      <td>400</td>\n",
       "      <td>400</td>\n",
       "      <td>400</td>\n",
       "      <td>400</td>\n",
       "      <td>400</td>\n",
       "      <td>400</td>\n",
       "    </tr>\n",
       "    <tr>\n",
       "      <th>2e2e7WgqU1BnpxmQL5jbfw</th>\n",
       "      <td>399</td>\n",
       "      <td>399</td>\n",
       "      <td>399</td>\n",
       "      <td>399</td>\n",
       "      <td>399</td>\n",
       "      <td>399</td>\n",
       "      <td>399</td>\n",
       "      <td>399</td>\n",
       "      <td>399</td>\n",
       "    </tr>\n",
       "    <tr>\n",
       "      <th>sIyHTizqAiGu12XMLX3N3g</th>\n",
       "      <td>379</td>\n",
       "      <td>379</td>\n",
       "      <td>379</td>\n",
       "      <td>379</td>\n",
       "      <td>379</td>\n",
       "      <td>379</td>\n",
       "      <td>379</td>\n",
       "      <td>379</td>\n",
       "      <td>379</td>\n",
       "    </tr>\n",
       "    <tr>\n",
       "      <th>aGbjLWzcrnEx2ZmMCFm3EA</th>\n",
       "      <td>322</td>\n",
       "      <td>322</td>\n",
       "      <td>322</td>\n",
       "      <td>322</td>\n",
       "      <td>322</td>\n",
       "      <td>322</td>\n",
       "      <td>322</td>\n",
       "      <td>322</td>\n",
       "      <td>322</td>\n",
       "    </tr>\n",
       "    <tr>\n",
       "      <th>Xhg93cMdemu5pAMkDoEdtQ</th>\n",
       "      <td>303</td>\n",
       "      <td>303</td>\n",
       "      <td>303</td>\n",
       "      <td>303</td>\n",
       "      <td>303</td>\n",
       "      <td>303</td>\n",
       "      <td>303</td>\n",
       "      <td>303</td>\n",
       "      <td>303</td>\n",
       "    </tr>\n",
       "    <tr>\n",
       "      <th>AtjsjFzalWqJ7S9DUFQ4bw</th>\n",
       "      <td>299</td>\n",
       "      <td>299</td>\n",
       "      <td>299</td>\n",
       "      <td>299</td>\n",
       "      <td>299</td>\n",
       "      <td>299</td>\n",
       "      <td>299</td>\n",
       "      <td>299</td>\n",
       "      <td>299</td>\n",
       "    </tr>\n",
       "    <tr>\n",
       "      <th>YNQgak-ZLtYJQxlDwN-qIg</th>\n",
       "      <td>284</td>\n",
       "      <td>284</td>\n",
       "      <td>284</td>\n",
       "      <td>284</td>\n",
       "      <td>284</td>\n",
       "      <td>284</td>\n",
       "      <td>284</td>\n",
       "      <td>284</td>\n",
       "      <td>284</td>\n",
       "    </tr>\n",
       "    <tr>\n",
       "      <th>lliksv-tglfUz1T3B3vgvA</th>\n",
       "      <td>264</td>\n",
       "      <td>264</td>\n",
       "      <td>264</td>\n",
       "      <td>264</td>\n",
       "      <td>264</td>\n",
       "      <td>264</td>\n",
       "      <td>264</td>\n",
       "      <td>264</td>\n",
       "      <td>264</td>\n",
       "    </tr>\n",
       "    <tr>\n",
       "      <th>tFU2Js_nbIZOrnKfYJYBBg</th>\n",
       "      <td>262</td>\n",
       "      <td>262</td>\n",
       "      <td>262</td>\n",
       "      <td>262</td>\n",
       "      <td>262</td>\n",
       "      <td>262</td>\n",
       "      <td>262</td>\n",
       "      <td>262</td>\n",
       "      <td>262</td>\n",
       "    </tr>\n",
       "    <tr>\n",
       "      <th>QbmcCE_cLq4WO8ZMKImaLw</th>\n",
       "      <td>256</td>\n",
       "      <td>256</td>\n",
       "      <td>256</td>\n",
       "      <td>256</td>\n",
       "      <td>256</td>\n",
       "      <td>256</td>\n",
       "      <td>256</td>\n",
       "      <td>256</td>\n",
       "      <td>256</td>\n",
       "    </tr>\n",
       "    <tr>\n",
       "      <th>JpHE7yhMS5ehA9e8WG_ETg</th>\n",
       "      <td>255</td>\n",
       "      <td>255</td>\n",
       "      <td>255</td>\n",
       "      <td>255</td>\n",
       "      <td>255</td>\n",
       "      <td>255</td>\n",
       "      <td>255</td>\n",
       "      <td>255</td>\n",
       "      <td>255</td>\n",
       "    </tr>\n",
       "    <tr>\n",
       "      <th>eq6lQI039SBLC6sHm3idGA</th>\n",
       "      <td>251</td>\n",
       "      <td>251</td>\n",
       "      <td>251</td>\n",
       "      <td>251</td>\n",
       "      <td>251</td>\n",
       "      <td>251</td>\n",
       "      <td>251</td>\n",
       "      <td>251</td>\n",
       "      <td>251</td>\n",
       "    </tr>\n",
       "    <tr>\n",
       "      <th>xfwRO04KbAPw_zRotCfWQQ</th>\n",
       "      <td>240</td>\n",
       "      <td>240</td>\n",
       "      <td>240</td>\n",
       "      <td>240</td>\n",
       "      <td>240</td>\n",
       "      <td>240</td>\n",
       "      <td>240</td>\n",
       "      <td>240</td>\n",
       "      <td>240</td>\n",
       "    </tr>\n",
       "    <tr>\n",
       "      <th>CZjcFdvJhksq9dy58NVEzw</th>\n",
       "      <td>239</td>\n",
       "      <td>239</td>\n",
       "      <td>239</td>\n",
       "      <td>239</td>\n",
       "      <td>239</td>\n",
       "      <td>239</td>\n",
       "      <td>239</td>\n",
       "      <td>239</td>\n",
       "      <td>239</td>\n",
       "    </tr>\n",
       "    <tr>\n",
       "      <th>Es300Ys1XXPYg8aI7BKVYQ</th>\n",
       "      <td>233</td>\n",
       "      <td>233</td>\n",
       "      <td>233</td>\n",
       "      <td>233</td>\n",
       "      <td>233</td>\n",
       "      <td>233</td>\n",
       "      <td>233</td>\n",
       "      <td>233</td>\n",
       "      <td>233</td>\n",
       "    </tr>\n",
       "    <tr>\n",
       "      <th>6LM_Klmp3hOP0JmsMCKRqQ</th>\n",
       "      <td>220</td>\n",
       "      <td>220</td>\n",
       "      <td>220</td>\n",
       "      <td>220</td>\n",
       "      <td>220</td>\n",
       "      <td>220</td>\n",
       "      <td>220</td>\n",
       "      <td>220</td>\n",
       "      <td>220</td>\n",
       "    </tr>\n",
       "    <tr>\n",
       "      <th>PXviRcHR1mqdH4vRc2LEAQ</th>\n",
       "      <td>219</td>\n",
       "      <td>219</td>\n",
       "      <td>219</td>\n",
       "      <td>219</td>\n",
       "      <td>219</td>\n",
       "      <td>219</td>\n",
       "      <td>219</td>\n",
       "      <td>219</td>\n",
       "      <td>219</td>\n",
       "    </tr>\n",
       "    <tr>\n",
       "      <th>eWPFXL1Bmu1ImtIa2Rqliw</th>\n",
       "      <td>217</td>\n",
       "      <td>217</td>\n",
       "      <td>217</td>\n",
       "      <td>217</td>\n",
       "      <td>217</td>\n",
       "      <td>217</td>\n",
       "      <td>217</td>\n",
       "      <td>217</td>\n",
       "      <td>217</td>\n",
       "    </tr>\n",
       "    <tr>\n",
       "      <th>DO3Gk17RyJVW7zYMCtYPnw</th>\n",
       "      <td>216</td>\n",
       "      <td>216</td>\n",
       "      <td>216</td>\n",
       "      <td>216</td>\n",
       "      <td>216</td>\n",
       "      <td>216</td>\n",
       "      <td>216</td>\n",
       "      <td>216</td>\n",
       "      <td>216</td>\n",
       "    </tr>\n",
       "    <tr>\n",
       "      <th>xyTJYlbE_MLouK6rCou6zg</th>\n",
       "      <td>215</td>\n",
       "      <td>215</td>\n",
       "      <td>215</td>\n",
       "      <td>215</td>\n",
       "      <td>215</td>\n",
       "      <td>215</td>\n",
       "      <td>215</td>\n",
       "      <td>215</td>\n",
       "      <td>215</td>\n",
       "    </tr>\n",
       "    <tr>\n",
       "      <th>PqTX5j9yfsPbd1qQCA1EwA</th>\n",
       "      <td>205</td>\n",
       "      <td>205</td>\n",
       "      <td>205</td>\n",
       "      <td>205</td>\n",
       "      <td>205</td>\n",
       "      <td>205</td>\n",
       "      <td>205</td>\n",
       "      <td>205</td>\n",
       "      <td>205</td>\n",
       "    </tr>\n",
       "    <tr>\n",
       "      <th>34uJtlPnKicSaX1V8_tu1A</th>\n",
       "      <td>205</td>\n",
       "      <td>205</td>\n",
       "      <td>205</td>\n",
       "      <td>205</td>\n",
       "      <td>205</td>\n",
       "      <td>205</td>\n",
       "      <td>205</td>\n",
       "      <td>205</td>\n",
       "      <td>205</td>\n",
       "    </tr>\n",
       "    <tr>\n",
       "      <th>jf67Z1pnwElRSXllpQHiJg</th>\n",
       "      <td>205</td>\n",
       "      <td>205</td>\n",
       "      <td>205</td>\n",
       "      <td>205</td>\n",
       "      <td>205</td>\n",
       "      <td>205</td>\n",
       "      <td>205</td>\n",
       "      <td>205</td>\n",
       "      <td>205</td>\n",
       "    </tr>\n",
       "    <tr>\n",
       "      <th>BqrTtox0JbG-P_DKBB5bBw</th>\n",
       "      <td>201</td>\n",
       "      <td>201</td>\n",
       "      <td>201</td>\n",
       "      <td>201</td>\n",
       "      <td>201</td>\n",
       "      <td>201</td>\n",
       "      <td>201</td>\n",
       "      <td>201</td>\n",
       "      <td>201</td>\n",
       "    </tr>\n",
       "    <tr>\n",
       "      <th>uJYw4p59AKh8c8h5yWMdOw</th>\n",
       "      <td>201</td>\n",
       "      <td>201</td>\n",
       "      <td>201</td>\n",
       "      <td>201</td>\n",
       "      <td>201</td>\n",
       "      <td>201</td>\n",
       "      <td>201</td>\n",
       "      <td>201</td>\n",
       "      <td>201</td>\n",
       "    </tr>\n",
       "    <tr>\n",
       "      <th>NGJDjdiDJHmN2xxU7KauuA</th>\n",
       "      <td>199</td>\n",
       "      <td>199</td>\n",
       "      <td>199</td>\n",
       "      <td>199</td>\n",
       "      <td>199</td>\n",
       "      <td>199</td>\n",
       "      <td>199</td>\n",
       "      <td>199</td>\n",
       "      <td>199</td>\n",
       "    </tr>\n",
       "    <tr>\n",
       "      <th>mDdqifuTrfXAOfxiLMGu5Q</th>\n",
       "      <td>197</td>\n",
       "      <td>197</td>\n",
       "      <td>197</td>\n",
       "      <td>197</td>\n",
       "      <td>197</td>\n",
       "      <td>197</td>\n",
       "      <td>197</td>\n",
       "      <td>197</td>\n",
       "      <td>197</td>\n",
       "    </tr>\n",
       "    <tr>\n",
       "      <th>-7yF42k0CcJhtPw51oaOqQ</th>\n",
       "      <td>188</td>\n",
       "      <td>188</td>\n",
       "      <td>188</td>\n",
       "      <td>188</td>\n",
       "      <td>188</td>\n",
       "      <td>188</td>\n",
       "      <td>188</td>\n",
       "      <td>188</td>\n",
       "      <td>188</td>\n",
       "    </tr>\n",
       "    <tr>\n",
       "      <th>5paMI5Hhciyl09yGpzdoJw</th>\n",
       "      <td>183</td>\n",
       "      <td>183</td>\n",
       "      <td>183</td>\n",
       "      <td>183</td>\n",
       "      <td>183</td>\n",
       "      <td>183</td>\n",
       "      <td>183</td>\n",
       "      <td>183</td>\n",
       "      <td>183</td>\n",
       "    </tr>\n",
       "    <tr>\n",
       "      <th>...</th>\n",
       "      <td>...</td>\n",
       "      <td>...</td>\n",
       "      <td>...</td>\n",
       "      <td>...</td>\n",
       "      <td>...</td>\n",
       "      <td>...</td>\n",
       "      <td>...</td>\n",
       "      <td>...</td>\n",
       "      <td>...</td>\n",
       "    </tr>\n",
       "    <tr>\n",
       "      <th>SXgFoz3H6rq-D-t9vGO1bQ</th>\n",
       "      <td>1</td>\n",
       "      <td>1</td>\n",
       "      <td>1</td>\n",
       "      <td>1</td>\n",
       "      <td>1</td>\n",
       "      <td>1</td>\n",
       "      <td>1</td>\n",
       "      <td>1</td>\n",
       "      <td>1</td>\n",
       "    </tr>\n",
       "    <tr>\n",
       "      <th>SXc95Gjs9hT2jJObEeYHuw</th>\n",
       "      <td>1</td>\n",
       "      <td>1</td>\n",
       "      <td>1</td>\n",
       "      <td>1</td>\n",
       "      <td>1</td>\n",
       "      <td>1</td>\n",
       "      <td>1</td>\n",
       "      <td>1</td>\n",
       "      <td>1</td>\n",
       "    </tr>\n",
       "    <tr>\n",
       "      <th>SXMFJo-4eB5YbhHYMCLYFA</th>\n",
       "      <td>1</td>\n",
       "      <td>1</td>\n",
       "      <td>1</td>\n",
       "      <td>1</td>\n",
       "      <td>1</td>\n",
       "      <td>1</td>\n",
       "      <td>1</td>\n",
       "      <td>1</td>\n",
       "      <td>1</td>\n",
       "    </tr>\n",
       "    <tr>\n",
       "      <th>Sb_0M-Gpswq7HiQvxveyCA</th>\n",
       "      <td>1</td>\n",
       "      <td>1</td>\n",
       "      <td>1</td>\n",
       "      <td>1</td>\n",
       "      <td>1</td>\n",
       "      <td>1</td>\n",
       "      <td>1</td>\n",
       "      <td>1</td>\n",
       "      <td>1</td>\n",
       "    </tr>\n",
       "    <tr>\n",
       "      <th>SbvqyxcjVct8Rov6DYXEaA</th>\n",
       "      <td>1</td>\n",
       "      <td>1</td>\n",
       "      <td>1</td>\n",
       "      <td>1</td>\n",
       "      <td>1</td>\n",
       "      <td>1</td>\n",
       "      <td>1</td>\n",
       "      <td>1</td>\n",
       "      <td>1</td>\n",
       "    </tr>\n",
       "    <tr>\n",
       "      <th>Sc09-IdtnU8ZDbjkW_0-ZQ</th>\n",
       "      <td>1</td>\n",
       "      <td>1</td>\n",
       "      <td>1</td>\n",
       "      <td>1</td>\n",
       "      <td>1</td>\n",
       "      <td>1</td>\n",
       "      <td>1</td>\n",
       "      <td>1</td>\n",
       "      <td>1</td>\n",
       "    </tr>\n",
       "    <tr>\n",
       "      <th>SeYuAfoS8yH5diYmhSJoiA</th>\n",
       "      <td>1</td>\n",
       "      <td>1</td>\n",
       "      <td>1</td>\n",
       "      <td>1</td>\n",
       "      <td>1</td>\n",
       "      <td>1</td>\n",
       "      <td>1</td>\n",
       "      <td>1</td>\n",
       "      <td>1</td>\n",
       "    </tr>\n",
       "    <tr>\n",
       "      <th>Sg6FHTwn57feQwHI-IG-_Q</th>\n",
       "      <td>1</td>\n",
       "      <td>1</td>\n",
       "      <td>1</td>\n",
       "      <td>1</td>\n",
       "      <td>1</td>\n",
       "      <td>1</td>\n",
       "      <td>1</td>\n",
       "      <td>1</td>\n",
       "      <td>1</td>\n",
       "    </tr>\n",
       "    <tr>\n",
       "      <th>Sg3Sx32CopclDMHu1MfYFA</th>\n",
       "      <td>1</td>\n",
       "      <td>1</td>\n",
       "      <td>1</td>\n",
       "      <td>1</td>\n",
       "      <td>1</td>\n",
       "      <td>1</td>\n",
       "      <td>1</td>\n",
       "      <td>1</td>\n",
       "      <td>1</td>\n",
       "    </tr>\n",
       "    <tr>\n",
       "      <th>SfdwT-pN-pUW4bvziL0Lyw</th>\n",
       "      <td>1</td>\n",
       "      <td>1</td>\n",
       "      <td>1</td>\n",
       "      <td>1</td>\n",
       "      <td>1</td>\n",
       "      <td>1</td>\n",
       "      <td>1</td>\n",
       "      <td>1</td>\n",
       "      <td>1</td>\n",
       "    </tr>\n",
       "    <tr>\n",
       "      <th>SfNJ41lfqLKzkpjWQ5v7MA</th>\n",
       "      <td>1</td>\n",
       "      <td>1</td>\n",
       "      <td>1</td>\n",
       "      <td>1</td>\n",
       "      <td>1</td>\n",
       "      <td>1</td>\n",
       "      <td>1</td>\n",
       "      <td>1</td>\n",
       "      <td>1</td>\n",
       "    </tr>\n",
       "    <tr>\n",
       "      <th>SfLU2aIEAtrAdgyr47bVLw</th>\n",
       "      <td>1</td>\n",
       "      <td>1</td>\n",
       "      <td>1</td>\n",
       "      <td>1</td>\n",
       "      <td>1</td>\n",
       "      <td>1</td>\n",
       "      <td>1</td>\n",
       "      <td>1</td>\n",
       "      <td>1</td>\n",
       "    </tr>\n",
       "    <tr>\n",
       "      <th>SfHdMvLXrOeJmgpQB6AFRA</th>\n",
       "      <td>1</td>\n",
       "      <td>1</td>\n",
       "      <td>1</td>\n",
       "      <td>1</td>\n",
       "      <td>1</td>\n",
       "      <td>1</td>\n",
       "      <td>1</td>\n",
       "      <td>1</td>\n",
       "      <td>1</td>\n",
       "    </tr>\n",
       "    <tr>\n",
       "      <th>Sf5lJ6idSyrwsbbkcU_Dsg</th>\n",
       "      <td>1</td>\n",
       "      <td>1</td>\n",
       "      <td>1</td>\n",
       "      <td>1</td>\n",
       "      <td>1</td>\n",
       "      <td>1</td>\n",
       "      <td>1</td>\n",
       "      <td>1</td>\n",
       "      <td>1</td>\n",
       "    </tr>\n",
       "    <tr>\n",
       "      <th>SepzOmKNnbVXkqXeFtoapw</th>\n",
       "      <td>1</td>\n",
       "      <td>1</td>\n",
       "      <td>1</td>\n",
       "      <td>1</td>\n",
       "      <td>1</td>\n",
       "      <td>1</td>\n",
       "      <td>1</td>\n",
       "      <td>1</td>\n",
       "      <td>1</td>\n",
       "    </tr>\n",
       "    <tr>\n",
       "      <th>Sem-1XGzHHVqMCATBbJnmA</th>\n",
       "      <td>1</td>\n",
       "      <td>1</td>\n",
       "      <td>1</td>\n",
       "      <td>1</td>\n",
       "      <td>1</td>\n",
       "      <td>1</td>\n",
       "      <td>1</td>\n",
       "      <td>1</td>\n",
       "      <td>1</td>\n",
       "    </tr>\n",
       "    <tr>\n",
       "      <th>Se_H3fewmzDgMaEQw2ljRw</th>\n",
       "      <td>1</td>\n",
       "      <td>1</td>\n",
       "      <td>1</td>\n",
       "      <td>1</td>\n",
       "      <td>1</td>\n",
       "      <td>1</td>\n",
       "      <td>1</td>\n",
       "      <td>1</td>\n",
       "      <td>1</td>\n",
       "    </tr>\n",
       "    <tr>\n",
       "      <th>SeSmcvfWQxj3PKiizxkdQg</th>\n",
       "      <td>1</td>\n",
       "      <td>1</td>\n",
       "      <td>1</td>\n",
       "      <td>1</td>\n",
       "      <td>1</td>\n",
       "      <td>1</td>\n",
       "      <td>1</td>\n",
       "      <td>1</td>\n",
       "      <td>1</td>\n",
       "    </tr>\n",
       "    <tr>\n",
       "      <th>ScUYxvUJEsUQkebkMVG0DA</th>\n",
       "      <td>1</td>\n",
       "      <td>1</td>\n",
       "      <td>1</td>\n",
       "      <td>1</td>\n",
       "      <td>1</td>\n",
       "      <td>1</td>\n",
       "      <td>1</td>\n",
       "      <td>1</td>\n",
       "      <td>1</td>\n",
       "    </tr>\n",
       "    <tr>\n",
       "      <th>SeKwfKHI09cOSfnu74xoJQ</th>\n",
       "      <td>1</td>\n",
       "      <td>1</td>\n",
       "      <td>1</td>\n",
       "      <td>1</td>\n",
       "      <td>1</td>\n",
       "      <td>1</td>\n",
       "      <td>1</td>\n",
       "      <td>1</td>\n",
       "      <td>1</td>\n",
       "    </tr>\n",
       "    <tr>\n",
       "      <th>Se7PDo-I5jBs5fU1LVmk_g</th>\n",
       "      <td>1</td>\n",
       "      <td>1</td>\n",
       "      <td>1</td>\n",
       "      <td>1</td>\n",
       "      <td>1</td>\n",
       "      <td>1</td>\n",
       "      <td>1</td>\n",
       "      <td>1</td>\n",
       "      <td>1</td>\n",
       "    </tr>\n",
       "    <tr>\n",
       "      <th>Sdxg0-RM5x0mde6bpNpzpw</th>\n",
       "      <td>1</td>\n",
       "      <td>1</td>\n",
       "      <td>1</td>\n",
       "      <td>1</td>\n",
       "      <td>1</td>\n",
       "      <td>1</td>\n",
       "      <td>1</td>\n",
       "      <td>1</td>\n",
       "      <td>1</td>\n",
       "    </tr>\n",
       "    <tr>\n",
       "      <th>Sdd8lX_8wTuuod_Ix6cRGA</th>\n",
       "      <td>1</td>\n",
       "      <td>1</td>\n",
       "      <td>1</td>\n",
       "      <td>1</td>\n",
       "      <td>1</td>\n",
       "      <td>1</td>\n",
       "      <td>1</td>\n",
       "      <td>1</td>\n",
       "      <td>1</td>\n",
       "    </tr>\n",
       "    <tr>\n",
       "      <th>SdQIxdIioygvmCQux6zAMw</th>\n",
       "      <td>1</td>\n",
       "      <td>1</td>\n",
       "      <td>1</td>\n",
       "      <td>1</td>\n",
       "      <td>1</td>\n",
       "      <td>1</td>\n",
       "      <td>1</td>\n",
       "      <td>1</td>\n",
       "      <td>1</td>\n",
       "    </tr>\n",
       "    <tr>\n",
       "      <th>SdFvvjkdU_U-yD6cK6-ktA</th>\n",
       "      <td>1</td>\n",
       "      <td>1</td>\n",
       "      <td>1</td>\n",
       "      <td>1</td>\n",
       "      <td>1</td>\n",
       "      <td>1</td>\n",
       "      <td>1</td>\n",
       "      <td>1</td>\n",
       "      <td>1</td>\n",
       "    </tr>\n",
       "    <tr>\n",
       "      <th>SdCoM5T-yKPlbMcwE-Hygw</th>\n",
       "      <td>1</td>\n",
       "      <td>1</td>\n",
       "      <td>1</td>\n",
       "      <td>1</td>\n",
       "      <td>1</td>\n",
       "      <td>1</td>\n",
       "      <td>1</td>\n",
       "      <td>1</td>\n",
       "      <td>1</td>\n",
       "    </tr>\n",
       "    <tr>\n",
       "      <th>ScxhX5He2vVmomGNRooOAA</th>\n",
       "      <td>1</td>\n",
       "      <td>1</td>\n",
       "      <td>1</td>\n",
       "      <td>1</td>\n",
       "      <td>1</td>\n",
       "      <td>1</td>\n",
       "      <td>1</td>\n",
       "      <td>1</td>\n",
       "      <td>1</td>\n",
       "    </tr>\n",
       "    <tr>\n",
       "      <th>Sci3hbXqQVMGRie4YeHiFQ</th>\n",
       "      <td>1</td>\n",
       "      <td>1</td>\n",
       "      <td>1</td>\n",
       "      <td>1</td>\n",
       "      <td>1</td>\n",
       "      <td>1</td>\n",
       "      <td>1</td>\n",
       "      <td>1</td>\n",
       "      <td>1</td>\n",
       "    </tr>\n",
       "    <tr>\n",
       "      <th>SceyRvQLdSM8iIkZOaYS-Q</th>\n",
       "      <td>1</td>\n",
       "      <td>1</td>\n",
       "      <td>1</td>\n",
       "      <td>1</td>\n",
       "      <td>1</td>\n",
       "      <td>1</td>\n",
       "      <td>1</td>\n",
       "      <td>1</td>\n",
       "      <td>1</td>\n",
       "    </tr>\n",
       "    <tr>\n",
       "      <th>Uci3X4uWSt13_uLUl-D2Fg</th>\n",
       "      <td>1</td>\n",
       "      <td>1</td>\n",
       "      <td>1</td>\n",
       "      <td>1</td>\n",
       "      <td>1</td>\n",
       "      <td>1</td>\n",
       "      <td>1</td>\n",
       "      <td>1</td>\n",
       "      <td>1</td>\n",
       "    </tr>\n",
       "  </tbody>\n",
       "</table>\n",
       "<p>46956 rows × 9 columns</p>\n",
       "</div>"
      ],
      "text/plain": [
       "                        user_id  review_id  text  votes.cool  votes.funny  \\\n",
       "business_id                                                                 \n",
       "4bEjOyTaDG24SY5TxsaUNQ      511        511   511         511          511   \n",
       "zt1TpTuJ6y9n551sw9TaEg      400        400   400         400          400   \n",
       "2e2e7WgqU1BnpxmQL5jbfw      399        399   399         399          399   \n",
       "sIyHTizqAiGu12XMLX3N3g      379        379   379         379          379   \n",
       "aGbjLWzcrnEx2ZmMCFm3EA      322        322   322         322          322   \n",
       "Xhg93cMdemu5pAMkDoEdtQ      303        303   303         303          303   \n",
       "AtjsjFzalWqJ7S9DUFQ4bw      299        299   299         299          299   \n",
       "YNQgak-ZLtYJQxlDwN-qIg      284        284   284         284          284   \n",
       "lliksv-tglfUz1T3B3vgvA      264        264   264         264          264   \n",
       "tFU2Js_nbIZOrnKfYJYBBg      262        262   262         262          262   \n",
       "QbmcCE_cLq4WO8ZMKImaLw      256        256   256         256          256   \n",
       "JpHE7yhMS5ehA9e8WG_ETg      255        255   255         255          255   \n",
       "eq6lQI039SBLC6sHm3idGA      251        251   251         251          251   \n",
       "xfwRO04KbAPw_zRotCfWQQ      240        240   240         240          240   \n",
       "CZjcFdvJhksq9dy58NVEzw      239        239   239         239          239   \n",
       "Es300Ys1XXPYg8aI7BKVYQ      233        233   233         233          233   \n",
       "6LM_Klmp3hOP0JmsMCKRqQ      220        220   220         220          220   \n",
       "PXviRcHR1mqdH4vRc2LEAQ      219        219   219         219          219   \n",
       "eWPFXL1Bmu1ImtIa2Rqliw      217        217   217         217          217   \n",
       "DO3Gk17RyJVW7zYMCtYPnw      216        216   216         216          216   \n",
       "xyTJYlbE_MLouK6rCou6zg      215        215   215         215          215   \n",
       "PqTX5j9yfsPbd1qQCA1EwA      205        205   205         205          205   \n",
       "34uJtlPnKicSaX1V8_tu1A      205        205   205         205          205   \n",
       "jf67Z1pnwElRSXllpQHiJg      205        205   205         205          205   \n",
       "BqrTtox0JbG-P_DKBB5bBw      201        201   201         201          201   \n",
       "uJYw4p59AKh8c8h5yWMdOw      201        201   201         201          201   \n",
       "NGJDjdiDJHmN2xxU7KauuA      199        199   199         199          199   \n",
       "mDdqifuTrfXAOfxiLMGu5Q      197        197   197         197          197   \n",
       "-7yF42k0CcJhtPw51oaOqQ      188        188   188         188          188   \n",
       "5paMI5Hhciyl09yGpzdoJw      183        183   183         183          183   \n",
       "...                         ...        ...   ...         ...          ...   \n",
       "SXgFoz3H6rq-D-t9vGO1bQ        1          1     1           1            1   \n",
       "SXc95Gjs9hT2jJObEeYHuw        1          1     1           1            1   \n",
       "SXMFJo-4eB5YbhHYMCLYFA        1          1     1           1            1   \n",
       "Sb_0M-Gpswq7HiQvxveyCA        1          1     1           1            1   \n",
       "SbvqyxcjVct8Rov6DYXEaA        1          1     1           1            1   \n",
       "Sc09-IdtnU8ZDbjkW_0-ZQ        1          1     1           1            1   \n",
       "SeYuAfoS8yH5diYmhSJoiA        1          1     1           1            1   \n",
       "Sg6FHTwn57feQwHI-IG-_Q        1          1     1           1            1   \n",
       "Sg3Sx32CopclDMHu1MfYFA        1          1     1           1            1   \n",
       "SfdwT-pN-pUW4bvziL0Lyw        1          1     1           1            1   \n",
       "SfNJ41lfqLKzkpjWQ5v7MA        1          1     1           1            1   \n",
       "SfLU2aIEAtrAdgyr47bVLw        1          1     1           1            1   \n",
       "SfHdMvLXrOeJmgpQB6AFRA        1          1     1           1            1   \n",
       "Sf5lJ6idSyrwsbbkcU_Dsg        1          1     1           1            1   \n",
       "SepzOmKNnbVXkqXeFtoapw        1          1     1           1            1   \n",
       "Sem-1XGzHHVqMCATBbJnmA        1          1     1           1            1   \n",
       "Se_H3fewmzDgMaEQw2ljRw        1          1     1           1            1   \n",
       "SeSmcvfWQxj3PKiizxkdQg        1          1     1           1            1   \n",
       "ScUYxvUJEsUQkebkMVG0DA        1          1     1           1            1   \n",
       "SeKwfKHI09cOSfnu74xoJQ        1          1     1           1            1   \n",
       "Se7PDo-I5jBs5fU1LVmk_g        1          1     1           1            1   \n",
       "Sdxg0-RM5x0mde6bpNpzpw        1          1     1           1            1   \n",
       "Sdd8lX_8wTuuod_Ix6cRGA        1          1     1           1            1   \n",
       "SdQIxdIioygvmCQux6zAMw        1          1     1           1            1   \n",
       "SdFvvjkdU_U-yD6cK6-ktA        1          1     1           1            1   \n",
       "SdCoM5T-yKPlbMcwE-Hygw        1          1     1           1            1   \n",
       "ScxhX5He2vVmomGNRooOAA        1          1     1           1            1   \n",
       "Sci3hbXqQVMGRie4YeHiFQ        1          1     1           1            1   \n",
       "SceyRvQLdSM8iIkZOaYS-Q        1          1     1           1            1   \n",
       "Uci3X4uWSt13_uLUl-D2Fg        1          1     1           1            1   \n",
       "\n",
       "                        stars  date  type  votes.useful  \n",
       "business_id                                              \n",
       "4bEjOyTaDG24SY5TxsaUNQ    511   511   511           511  \n",
       "zt1TpTuJ6y9n551sw9TaEg    400   400   400           400  \n",
       "2e2e7WgqU1BnpxmQL5jbfw    399   399   399           399  \n",
       "sIyHTizqAiGu12XMLX3N3g    379   379   379           379  \n",
       "aGbjLWzcrnEx2ZmMCFm3EA    322   322   322           322  \n",
       "Xhg93cMdemu5pAMkDoEdtQ    303   303   303           303  \n",
       "AtjsjFzalWqJ7S9DUFQ4bw    299   299   299           299  \n",
       "YNQgak-ZLtYJQxlDwN-qIg    284   284   284           284  \n",
       "lliksv-tglfUz1T3B3vgvA    264   264   264           264  \n",
       "tFU2Js_nbIZOrnKfYJYBBg    262   262   262           262  \n",
       "QbmcCE_cLq4WO8ZMKImaLw    256   256   256           256  \n",
       "JpHE7yhMS5ehA9e8WG_ETg    255   255   255           255  \n",
       "eq6lQI039SBLC6sHm3idGA    251   251   251           251  \n",
       "xfwRO04KbAPw_zRotCfWQQ    240   240   240           240  \n",
       "CZjcFdvJhksq9dy58NVEzw    239   239   239           239  \n",
       "Es300Ys1XXPYg8aI7BKVYQ    233   233   233           233  \n",
       "6LM_Klmp3hOP0JmsMCKRqQ    220   220   220           220  \n",
       "PXviRcHR1mqdH4vRc2LEAQ    219   219   219           219  \n",
       "eWPFXL1Bmu1ImtIa2Rqliw    217   217   217           217  \n",
       "DO3Gk17RyJVW7zYMCtYPnw    216   216   216           216  \n",
       "xyTJYlbE_MLouK6rCou6zg    215   215   215           215  \n",
       "PqTX5j9yfsPbd1qQCA1EwA    205   205   205           205  \n",
       "34uJtlPnKicSaX1V8_tu1A    205   205   205           205  \n",
       "jf67Z1pnwElRSXllpQHiJg    205   205   205           205  \n",
       "BqrTtox0JbG-P_DKBB5bBw    201   201   201           201  \n",
       "uJYw4p59AKh8c8h5yWMdOw    201   201   201           201  \n",
       "NGJDjdiDJHmN2xxU7KauuA    199   199   199           199  \n",
       "mDdqifuTrfXAOfxiLMGu5Q    197   197   197           197  \n",
       "-7yF42k0CcJhtPw51oaOqQ    188   188   188           188  \n",
       "5paMI5Hhciyl09yGpzdoJw    183   183   183           183  \n",
       "...                       ...   ...   ...           ...  \n",
       "SXgFoz3H6rq-D-t9vGO1bQ      1     1     1             1  \n",
       "SXc95Gjs9hT2jJObEeYHuw      1     1     1             1  \n",
       "SXMFJo-4eB5YbhHYMCLYFA      1     1     1             1  \n",
       "Sb_0M-Gpswq7HiQvxveyCA      1     1     1             1  \n",
       "SbvqyxcjVct8Rov6DYXEaA      1     1     1             1  \n",
       "Sc09-IdtnU8ZDbjkW_0-ZQ      1     1     1             1  \n",
       "SeYuAfoS8yH5diYmhSJoiA      1     1     1             1  \n",
       "Sg6FHTwn57feQwHI-IG-_Q      1     1     1             1  \n",
       "Sg3Sx32CopclDMHu1MfYFA      1     1     1             1  \n",
       "SfdwT-pN-pUW4bvziL0Lyw      1     1     1             1  \n",
       "SfNJ41lfqLKzkpjWQ5v7MA      1     1     1             1  \n",
       "SfLU2aIEAtrAdgyr47bVLw      1     1     1             1  \n",
       "SfHdMvLXrOeJmgpQB6AFRA      1     1     1             1  \n",
       "Sf5lJ6idSyrwsbbkcU_Dsg      1     1     1             1  \n",
       "SepzOmKNnbVXkqXeFtoapw      1     1     1             1  \n",
       "Sem-1XGzHHVqMCATBbJnmA      1     1     1             1  \n",
       "Se_H3fewmzDgMaEQw2ljRw      1     1     1             1  \n",
       "SeSmcvfWQxj3PKiizxkdQg      1     1     1             1  \n",
       "ScUYxvUJEsUQkebkMVG0DA      1     1     1             1  \n",
       "SeKwfKHI09cOSfnu74xoJQ      1     1     1             1  \n",
       "Se7PDo-I5jBs5fU1LVmk_g      1     1     1             1  \n",
       "Sdxg0-RM5x0mde6bpNpzpw      1     1     1             1  \n",
       "Sdd8lX_8wTuuod_Ix6cRGA      1     1     1             1  \n",
       "SdQIxdIioygvmCQux6zAMw      1     1     1             1  \n",
       "SdFvvjkdU_U-yD6cK6-ktA      1     1     1             1  \n",
       "SdCoM5T-yKPlbMcwE-Hygw      1     1     1             1  \n",
       "ScxhX5He2vVmomGNRooOAA      1     1     1             1  \n",
       "Sci3hbXqQVMGRie4YeHiFQ      1     1     1             1  \n",
       "SceyRvQLdSM8iIkZOaYS-Q      1     1     1             1  \n",
       "Uci3X4uWSt13_uLUl-D2Fg      1     1     1             1  \n",
       "\n",
       "[46956 rows x 9 columns]"
      ]
     },
     "execution_count": 7,
     "metadata": {},
     "output_type": "execute_result"
    }
   ],
   "source": [
    "reviews_df.groupby('business_id').count().sort_values(by=\"user_id\",ascending=False)"
   ]
  },
  {
   "cell_type": "code",
   "execution_count": null,
   "metadata": {
    "collapsed": true
   },
   "outputs": [],
   "source": []
  },
  {
   "cell_type": "code",
   "execution_count": 99,
   "metadata": {
    "collapsed": false
   },
   "outputs": [
    {
     "data": {
      "text/plain": [
       "1053"
      ]
     },
     "execution_count": 99,
     "metadata": {},
     "output_type": "execute_result"
    }
   ],
   "source": [
    "max(data)"
   ]
  },
  {
   "cell_type": "markdown",
   "metadata": {},
   "source": [
    "## Number of Words per Rating"
   ]
  },
  {
   "cell_type": "code",
   "execution_count": 101,
   "metadata": {
    "collapsed": false
   },
   "outputs": [
    {
     "data": {
      "image/png": "[encoded data removed]",
      "text/plain": [
       "<matplotlib.figure.Figure at 0x1117e4b70>"
      ]
     },
     "metadata": {},
     "output_type": "display_data"
    }
   ],
   "source": [
    "import math\n",
    "star = {}\n",
    "for i in range(5):\n",
    "    star[5-i] = reviews_df[reviews_df.stars == (5-i)].text\n",
    "    data = np.array([math.log(len(rev.split(\" \"))) for rev in star[5-i]])\n",
    "    hist, bins = np.histogram(data, bins=70)\n",
    "    width = 0.7 * (bins[1] - bins[0])\n",
    "    plt.hist(data,bins=50,alpha=.4,label=str(5-i))\n",
    "    center = (bins[:-1] + bins[1:]) / 2\n",
    "#     plt.bar(center, hist, align='center', width=width)\n",
    "#     print(5-i)\n",
    "#     print(data.mean(), data.std())\n",
    "plt.ylabel('# reviews')\n",
    "plt.xlabel('log(# words)')\n",
    "plt.legend(loc='best')\n",
    "# plt.show()\n",
    "plt.savefig('log_Word_count_by_star.jpg')"
   ]
  },
  {
   "cell_type": "markdown",
   "metadata": {},
   "source": [
    "## Histogram of star ratings "
   ]
  },
  {
   "cell_type": "code",
   "execution_count": 73,
   "metadata": {
    "collapsed": true
   },
   "outputs": [],
   "source": [
    "from pptx import Presentation\n",
    "import matplotlib.pyplot as plt"
   ]
  },
  {
   "cell_type": "code",
   "execution_count": null,
   "metadata": {
    "collapsed": true
   },
   "outputs": [],
   "source": [
    "savefig('sample.pdf')"
   ]
  },
  {
   "cell_type": "code",
   "execution_count": 70,
   "metadata": {
    "collapsed": false
   },
   "outputs": [],
   "source": [
    "lengths = [len(rating) for rating in star.values()]\n",
    "# lengths = [len(stars_1),len(stars_2),len(stars_3),len(stars_4),len(stars_5)]\n",
    "lables = [1,2,3,4,5]"
   ]
  },
  {
   "cell_type": "code",
   "execution_count": 71,
   "metadata": {
    "collapsed": true
   },
   "outputs": [],
   "source": [
    "import seaborn as sns"
   ]
  },
  {
   "cell_type": "code",
   "execution_count": 102,
   "metadata": {
    "collapsed": false
   },
   "outputs": [
    {
     "data": {
      "image/png": "[encoded data removed]",
      "text/plain": [
       "<matplotlib.figure.Figure at 0x110ee86d8>"
      ]
     },
     "metadata": {},
     "output_type": "display_data"
    }
   ],
   "source": [
    "ax = sns.barplot(y=lengths, x=lables,palette=\"Blues_d\")\n",
    "sns.axlabel(xlabel='Star Rating', ylabel='Number of Reviews')\n",
    "a"
   ]
  },
  {
   "cell_type": "markdown",
   "metadata": {},
   "source": [
    "### review counts STAR 1"
   ]
  },
  {
   "cell_type": "markdown",
   "metadata": {},
   "source": [
    "## Word lists"
   ]
  },
  {
   "cell_type": "code",
   "execution_count": 48,
   "metadata": {
    "collapsed": false
   },
   "outputs": [],
   "source": [
    "negative_words = x.split('\\n')\n",
    "# negative_word_list = open(\"opinion-lexicon-English/negative-words.txt\",'r').read()"
   ]
  },
  {
   "cell_type": "code",
   "execution_count": 11,
   "metadata": {
    "collapsed": false
   },
   "outputs": [
    {
     "ename": "NameError",
     "evalue": "name 'negative_words' is not defined",
     "output_type": "error",
     "traceback": [
      "\u001b[0;31m---------------------------------------------------------------------------\u001b[0m",
      "\u001b[0;31mNameError\u001b[0m                                 Traceback (most recent call last)",
      "\u001b[0;32m<ipython-input-11-9c1df1ce7b4f>\u001b[0m in \u001b[0;36m<module>\u001b[0;34m()\u001b[0m\n\u001b[0;32m----> 1\u001b[0;31m \u001b[0mnegative_words\u001b[0m\u001b[0;34m\u001b[0m\u001b[0m\n\u001b[0m",
      "\u001b[0;31mNameError\u001b[0m: name 'negative_words' is not defined"
     ]
    }
   ],
   "source": [
    "negative_words"
   ]
  },
  {
   "cell_type": "code",
   "execution_count": 61,
   "metadata": {
    "collapsed": false
   },
   "outputs": [],
   "source": [
    "import pickle\n",
    "pickle.dump(stop_words_terrier, open( \"stop_words_terrier.p\", \"wb\" ) )\n",
    "pickle.dump(positive_words, open( \"positive_words.p\", \"wb\" ) )\n",
    "pickle.dump(negative_words, open( \"negative_words.p\", \"wb\" ) )\n"
   ]
  },
  {
   "cell_type": "code",
   "execution_count": 109,
   "metadata": {
    "collapsed": false
   },
   "outputs": [
    {
     "ename": "NameError",
     "evalue": "name 'TfidfVectorizer' is not defined",
     "output_type": "error",
     "traceback": [
      "\u001b[0;31m---------------------------------------------------------------------------\u001b[0m",
      "\u001b[0;31mNameError\u001b[0m                                 Traceback (most recent call last)",
      "\u001b[0;32m<ipython-input-109-b808a2cc53a4>\u001b[0m in \u001b[0;36m<module>\u001b[0;34m()\u001b[0m\n\u001b[0;32m----> 1\u001b[0;31m tfidf_vectorizer = TfidfVectorizer( #max_features=n_features,\n\u001b[0m\u001b[1;32m      2\u001b[0m                                    stop_words='english')\n",
      "\u001b[0;31mNameError\u001b[0m: name 'TfidfVectorizer' is not defined"
     ]
    }
   ],
   "source": [
    "tfidf_vectorizer = TfidfVectorizer( #max_features=n_features,\n",
    "                                   stop_words='english')"
   ]
  },
  {
   "cell_type": "code",
   "execution_count": 106,
   "metadata": {
    "collapsed": true
   },
   "outputs": [],
   "source": [
    "input_string = \"I have so many dogs. It's crazy how many dogs i have\"\n",
    "\n",
    "word = \"dog\"\n",
    "import re\n",
    "count = sum(1 for _ in re.finditer(r'\\b%s\\b' % re.escape(word), input_string))"
   ]
  },
  {
   "cell_type": "code",
   "execution_count": 108,
   "metadata": {
    "collapsed": false
   },
   "outputs": [
    {
     "ename": "NameError",
     "evalue": "name 'tfidf' is not defined",
     "output_type": "error",
     "traceback": [
      "\u001b[0;31m---------------------------------------------------------------------------\u001b[0m",
      "\u001b[0;31mNameError\u001b[0m                                 Traceback (most recent call last)",
      "\u001b[0;32m<ipython-input-108-e0f31824455b>\u001b[0m in \u001b[0;36m<module>\u001b[0;34m()\u001b[0m\n\u001b[0;32m----> 1\u001b[0;31m \u001b[0mtfidf\u001b[0m\u001b[0;34m\u001b[0m\u001b[0m\n\u001b[0m",
      "\u001b[0;31mNameError\u001b[0m: name 'tfidf' is not defined"
     ]
    }
   ],
   "source": [
    "tfidf"
   ]
  },
  {
   "cell_type": "code",
   "execution_count": 107,
   "metadata": {
    "collapsed": false
   },
   "outputs": [
    {
     "data": {
      "text/plain": [
       "0"
      ]
     },
     "execution_count": 107,
     "metadata": {},
     "output_type": "execute_result"
    }
   ],
   "source": [
    "count"
   ]
  },
  {
   "cell_type": "code",
   "execution_count": 94,
   "metadata": {
    "collapsed": false
   },
   "outputs": [],
   "source": [
    "tfidf = tfidf_vectorizer.fit_transform(star[5])"
   ]
  },
  {
   "cell_type": "code",
   "execution_count": 85,
   "metadata": {
    "collapsed": true
   },
   "outputs": [],
   "source": [
    "n_topics = 10"
   ]
  },
  {
   "cell_type": "code",
   "execution_count": 95,
   "metadata": {
    "collapsed": true
   },
   "outputs": [],
   "source": [
    "nmf = NMF(n_components=n_topics, random_state=1, alpha=.1, l1_ratio=.5).fit(tfidf)"
   ]
  },
  {
   "cell_type": "code",
   "execution_count": 96,
   "metadata": {
    "collapsed": true
   },
   "outputs": [],
   "source": [
    "tfidf_feature_names = tfidf_vectorizer.get_feature_names()"
   ]
  },
  {
   "cell_type": "code",
   "execution_count": 97,
   "metadata": {
    "collapsed": false
   },
   "outputs": [
    {
     "name": "stdout",
     "output_type": "stream",
     "text": [
      "Topic #0:\n",
      "food service excellent good friendly delicious fast restaurant staff mexican atmosphere fresh recommend quality definitely authentic prices thai fantastic family\n",
      "Topic #1:\n",
      "time friendly staff did work recommend just nice job like really car hair new clean experience highly got going went\n",
      "Topic #2:\n",
      "pizza crust pizzas wings good pepperoni cheese slice toppings sauce delivery ny italian chicago order style garlic sausage pie delicious\n",
      "Topic #3:\n",
      "great service place atmosphere prices selection beer drinks customer bar staff price experience music definitely fun location hour people wine\n",
      "Topic #4:\n",
      "sushi roll rolls fresh fish eat ayce sashimi tuna quality place favorite chef japanese chefs hour happy places tempura salmon\n",
      "Topic #5:\n",
      "good chicken delicious like really just ordered try menu place cheese salad burger sauce fresh order restaurant lunch fries meal\n",
      "Topic #6:\n",
      "amazing absolutely recommend service place highly definitely experience food server incredible staff wow simply try perfect drinks atmosphere come customer\n",
      "Topic #7:\n",
      "love place favorite friendly staff absolutely coffee coming nice clean family come super fun like eat kids people going try\n",
      "Topic #8:\n",
      "awesome place beer super definitely service cool drinks selection music guys staff bar wings fun bartender server try loved people\n",
      "Topic #9:\n",
      "best ve vegas las town far hands buffet place years mexican places phoenix strip valley eaten restaurants worth favorite probably\n",
      "\n"
     ]
    }
   ],
   "source": [
    "print_top_words(nmf, tfidf_feature_names, n_top_words)"
   ]
  },
  {
   "cell_type": "code",
   "execution_count": 90,
   "metadata": {
    "collapsed": false
   },
   "outputs": [
    {
     "name": "stdout",
     "output_type": "stream",
     "text": [
      "Extracting tf features for LDA...\n"
     ]
    }
   ],
   "source": [
    "print(\"Extracting tf features for LDA...\")\n",
    "tf_vectorizer = CountVectorizer(stop_words=stop_list)\n",
    "tf = tf_vectorizer.fit_transform(star[1])"
   ]
  },
  {
   "cell_type": "code",
   "execution_count": 91,
   "metadata": {
    "collapsed": false
   },
   "outputs": [
    {
     "data": {
      "text/plain": [
       "LatentDirichletAllocation(batch_size=128, doc_topic_prior=None,\n",
       "             evaluate_every=-1, learning_decay=0.7,\n",
       "             learning_method='online', learning_offset=50.0,\n",
       "             max_doc_update_iter=100, max_iter=5, mean_change_tol=0.001,\n",
       "             n_jobs=1, n_topics=10, perp_tol=0.1, random_state=0,\n",
       "             topic_word_prior=None, total_samples=1000000.0, verbose=0)"
      ]
     },
     "execution_count": 91,
     "metadata": {},
     "output_type": "execute_result"
    }
   ],
   "source": [
    "lda = LatentDirichletAllocation(n_topics=n_topics, max_iter=5,\n",
    "                                learning_method='online', learning_offset=50.,\n",
    "                                random_state=0)\n",
    "lda.fit(tf)"
   ]
  },
  {
   "cell_type": "code",
   "execution_count": 92,
   "metadata": {
    "collapsed": false
   },
   "outputs": [
    {
     "name": "stdout",
     "output_type": "stream",
     "text": [
      "\n",
      "Topics in LDA model:\n",
      "Topic #0:\n",
      "sushi rolls chinese roll thai noodles tire tires brakes soup pho rotors asian authentic rice noodle brake korean ramen pad\n",
      "Topic #1:\n",
      "bank account presented branch greek gyro flowers matches pita church los 2011 agoraphobic estillo pretentious jeff brothers scale lowes america\n",
      "Topic #2:\n",
      "massage die und der ich facial das nicht hat es war gut man da therapist den wir tots fryer zu\n",
      "Topic #3:\n",
      "food ordered good like chicken place restaurant pizza eat meal cheese menu sauce salad tasted taste cold meat fries sandwich\n",
      "Topic #4:\n",
      "service back get just time one place us go never said even will like told got don minutes didn asked\n",
      "Topic #5:\n",
      "room car hotel stay called told desk front office rooms day call bed check doctor dr hours clean floor work\n",
      "Topic #6:\n",
      "will store can company like vegas money don business new people show one dog pay now car see use also\n",
      "Topic #7:\n",
      "la de un le et que pour est pas pepperoni les en el une du je il ne avec danny\n",
      "Topic #8:\n",
      "hair nails cut nail salon color pedicure polish done skin job stylist tech haircut wax look mani coat fix dry\n",
      "Topic #9:\n",
      "club dress music dance girls shirts dj bouncers circus loose dancing floor dresses bagels nightclub reality song cat bob heels\n",
      "\n"
     ]
    }
   ],
   "source": [
    "print(\"\\nTopics in LDA model:\")\n",
    "tf_feature_names = tf_vectorizer.get_feature_names()\n",
    "print_top_words(lda, tf_feature_names, n_top_words)"
   ]
  },
  {
   "cell_type": "code",
   "execution_count": 112,
   "metadata": {
    "collapsed": false
   },
   "outputs": [
    {
     "data": {
      "text/plain": [
       "(10, 44988)"
      ]
     },
     "execution_count": 112,
     "metadata": {},
     "output_type": "execute_result"
    }
   ],
   "source": [
    "lda.components_.shape\n",
    "# len(tf_feature_names)"
   ]
  },
  {
   "cell_type": "code",
   "execution_count": null,
   "metadata": {
    "collapsed": true
   },
   "outputs": [],
   "source": []
  },
  {
   "cell_type": "code",
   "execution_count": null,
   "metadata": {
    "collapsed": true
   },
   "outputs": [],
   "source": [
    "from sklearn.feature_extraction.text import TfidfVectorizer\n",
    "vectorizer = TfidfVectorizer(min_df=1)\n",
    "vectorizer.fit_transform(star_1_corpus)"
   ]
  },
  {
   "cell_type": "code",
   "execution_count": null,
   "metadata": {
    "collapsed": true
   },
   "outputs": [],
   "source": []
  },
  {
   "cell_type": "markdown",
   "metadata": {},
   "source": [
    "## Sentiment analysis of words by rating"
   ]
  },
  {
   "cell_type": "markdown",
   "metadata": {},
   "source": [
    "### Non-negative Matrix Factorization and Latent Dirichlet Allocation\n",
    "http://scikit-learn.org/stable/auto_examples/applications/topics_extraction_with_nmf_lda.html#example-applications-topics-extraction-with-nmf-lda-py"
   ]
  },
  {
   "cell_type": "code",
   "execution_count": 110,
   "metadata": {
    "collapsed": true
   },
   "outputs": [],
   "source": [
    "# Author: Olivier Grisel <olivier.grisel@ensta.org>\n",
    "#         Lars Buitinck <L.J.Buitinck@uva.nl>\n",
    "#         Chyi-Kwei Yau <chyikwei.yau@gmail.com>\n",
    "# License: BSD 3 clause\n",
    "\n",
    "from __future__ import print_function\n",
    "from time import time\n",
    "\n",
    "from sklearn.feature_extraction.text import TfidfVectorizer, CountVectorizer\n",
    "from sklearn.decomposition import NMF, LatentDirichletAllocation\n",
    "from sklearn.datasets import fetch_20newsgroups"
   ]
  },
  {
   "cell_type": "code",
   "execution_count": 9,
   "metadata": {
    "collapsed": true
   },
   "outputs": [],
   "source": [
    "n_samples = 2000\n",
    "n_features = 1000\n",
    "n_topics = 10\n",
    "n_top_words = 20"
   ]
  },
  {
   "cell_type": "code",
   "execution_count": 10,
   "metadata": {
    "collapsed": true
   },
   "outputs": [],
   "source": [
    "def print_top_words(model, feature_names, n_top_words):\n",
    "    for topic_idx, topic in enumerate(model.components_):\n",
    "        print(\"Topic #%d:\" % topic_idx)\n",
    "        print(\" \".join([feature_names[i]\n",
    "                        for i in topic.argsort()[:-n_top_words - 1:-1]]))\n",
    "    print()\n",
    "\n",
    "\n",
    "# Load the 20 newsgroups dataset and vectorize it. We use a few heuristics\n",
    "# to filter out useless terms early on: the posts are stripped of headers,\n",
    "# footers and quoted replies, and common English words, words occurring in\n",
    "# only one document or in at least 95% of the documents are removed."
   ]
  },
  {
   "cell_type": "code",
   "execution_count": 11,
   "metadata": {
    "collapsed": false
   },
   "outputs": [
    {
     "name": "stdout",
     "output_type": "stream",
     "text": [
      "Loading dataset...\n",
      "done in 3.227s.\n"
     ]
    }
   ],
   "source": [
    "print(\"Loading dataset...\")\n",
    "t0 = time()\n",
    "dataset = fetch_20newsgroups(shuffle=True, random_state=1,\n",
    "                             remove=('headers', 'footers', 'quotes'))\n",
    "data_samples = dataset.data\n",
    "print(\"done in %0.3fs.\" % (time() - t0))"
   ]
  },
  {
   "cell_type": "code",
   "execution_count": 25,
   "metadata": {
    "collapsed": false
   },
   "outputs": [
    {
     "data": {
      "text/plain": [
       "11314"
      ]
     },
     "execution_count": 25,
     "metadata": {},
     "output_type": "execute_result"
    }
   ],
   "source": []
  },
  {
   "cell_type": "code",
   "execution_count": 56,
   "metadata": {
    "collapsed": false
   },
   "outputs": [
    {
     "name": "stdout",
     "output_type": "stream",
     "text": [
      "Extracting tf-idf features for NMF...\n",
      "done in 3.523s.\n"
     ]
    }
   ],
   "source": [
    "# Use tf-idf features for NMF.\n",
    "print(\"Extracting tf-idf features for NMF...\")\n",
    "tfidf_vectorizer = TfidfVectorizer(max_df=0.95, min_df=2, #max_features=n_features,\n",
    "                                   stop_words='english')\n",
    "t0 = time()\n",
    "tfidf = tfidf_vectorizer.fit_transform(data_samples)\n",
    "print(\"done in %0.3fs.\" % (time() - t0))"
   ]
  },
  {
   "cell_type": "code",
   "execution_count": 61,
   "metadata": {
    "collapsed": false
   },
   "outputs": [
    {
     "data": {
      "text/plain": [
       "11314"
      ]
     },
     "execution_count": 61,
     "metadata": {},
     "output_type": "execute_result"
    }
   ],
   "source": [
    "len(data_samples)"
   ]
  },
  {
   "cell_type": "code",
   "execution_count": null,
   "metadata": {
    "collapsed": true
   },
   "outputs": [],
   "source": [
    "# Use tf (raw term count) features for LDA.\n",
    "print(\"Extracting tf features for LDA...\")\n",
    "tf_vectorizer = CountVectorizer(max_df=0.95, min_df=2, max_features=n_features,\n",
    "                                stop_words='english')\n",
    "t0 = time()\n",
    "tf = tf_vectorizer.fit_transform(data_samples)\n",
    "print(\"done in %0.3fs.\" % (time() - t0))"
   ]
  },
  {
   "cell_type": "code",
   "execution_count": null,
   "metadata": {
    "collapsed": false
   },
   "outputs": [],
   "source": [
    "# Fit the NMF model\n",
    "print(\"Fitting the NMF model with tf-idf features,\"\n",
    "      \"n_samples=%d and n_features=%d...\"\n",
    "      % (n_samples, n_features))\n",
    "t0 = time()\n",
    "nmf = NMF(n_components=n_topics, random_state=1, alpha=.1, l1_ratio=.5).fit(tfidf)\n",
    "exit()\n",
    "print(\"done in %0.3fs.\" % (time() - t0))\n",
    "\n",
    "print(\"\\nTopics in NMF model:\")\n",
    "tfidf_feature_names = tfidf_vectorizer.get_feature_names()\n",
    "print_top_words(nmf, tfidf_feature_names, n_top_words)\n",
    "\n",
    "print(\"Fitting LDA models with tf features, n_samples=%d and n_features=%d...\"\n",
    "      % (n_samples, n_features))\n",
    "lda = LatentDirichletAllocation(n_topics=n_topics, max_iter=5,\n",
    "                                learning_method='online', learning_offset=50.,\n",
    "                                random_state=0)\n",
    "t0 = time()\n",
    "lda.fit(tf)\n",
    "print(\"done in %0.3fs.\" % (time() - t0))\n",
    "\n",
    "print(\"\\nTopics in LDA model:\")\n",
    "tf_feature_names = tf_vectorizer.get_feature_names()\n",
    "print_top_words(lda, tf_feature_names, n_top_words)"
   ]
  },
  {
   "cell_type": "code",
   "execution_count": 71,
   "metadata": {
    "collapsed": false
   },
   "outputs": [
    {
     "data": {
      "text/plain": [
       "10"
      ]
     },
     "execution_count": 71,
     "metadata": {},
     "output_type": "execute_result"
    }
   ],
   "source": [
    "n_topics\n"
   ]
  },
  {
   "cell_type": "code",
   "execution_count": null,
   "metadata": {
    "collapsed": true
   },
   "outputs": [],
   "source": []
  }
 ],
 "metadata": {
  "kernelspec": {
   "display_name": "Python 3",
   "language": "python",
   "name": "python3"
  },
  "language_info": {
   "codemirror_mode": {
    "name": "ipython",
    "version": 3
   },
   "file_extension": ".py",
   "mimetype": "text/x-python",
   "name": "python",
   "nbconvert_exporter": "python",
   "pygments_lexer": "ipython3",
   "version": "3.5.1"
  }
 },
 "nbformat": 4,
 "nbformat_minor": 0
}
