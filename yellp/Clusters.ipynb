{
 "cells": [
  {
   "cell_type": "markdown",
   "metadata": {},
   "source": [
    "## Import similarity Data"
   ]
  },
  {
   "cell_type": "code",
   "execution_count": 1,
   "metadata": {
    "collapsed": true
   },
   "outputs": [],
   "source": [
    "import pandas as pd\n",
    "import numpy as np\n",
    "# np.set_printoptions(threshold=np.nan)"
   ]
  },
  {
   "cell_type": "code",
   "execution_count": 2,
   "metadata": {
    "collapsed": true
   },
   "outputs": [],
   "source": [
    "import pickle\n",
    "result = pickle.load(open(\"spacy_similarity_result_2.p\", \"rb\"))"
   ]
  },
  {
   "cell_type": "markdown",
   "metadata": {},
   "source": [
    "## Create Numpy Pivot Table"
   ]
  },
  {
   "cell_type": "code",
   "execution_count": 3,
   "metadata": {
    "collapsed": false
   },
   "outputs": [],
   "source": [
    "data = [np.array(result[0]).astype(int), np.array(result[1]).astype(int), np.array(result[2])]\n",
    "datum = np.array(data)\n",
    "datum = datum.T"
   ]
  },
  {
   "cell_type": "code",
   "execution_count": null,
   "metadata": {
    "collapsed": true
   },
   "outputs": [],
   "source": []
  },
  {
   "cell_type": "code",
   "execution_count": null,
   "metadata": {
    "collapsed": false
   },
   "outputs": [],
   "source": [
    "datum[0:1000]"
   ]
  },
  {
   "cell_type": "code",
   "execution_count": 84,
   "metadata": {
    "collapsed": true
   },
   "outputs": [],
   "source": [
    "d = pd.DataFrame(datum)"
   ]
  },
  {
   "cell_type": "code",
   "execution_count": 79,
   "metadata": {
    "collapsed": false
   },
   "outputs": [
    {
     "name": "stderr",
     "output_type": "stream",
     "text": [
      "/Users/ingrid/anaconda/lib/python3.5/site-packages/pandas/core/frame.py:1997: UserWarning: Boolean Series key will be reindexed to match DataFrame index.\n",
      "  \"DataFrame index.\", UserWarning)\n"
     ]
    }
   ],
   "source": [
    "high_value = d[d[2] > .99][d[0] != d[1]]"
   ]
  },
  {
   "cell_type": "code",
   "execution_count": 83,
   "metadata": {
    "collapsed": false
   },
   "outputs": [
    {
     "data": {
      "text/html": [
       "<div>\n",
       "<table border=\"1\" class=\"dataframe\">\n",
       "  <thead>\n",
       "    <tr style=\"text-align: right;\">\n",
       "      <th></th>\n",
       "      <th>source</th>\n",
       "      <th>target</th>\n",
       "      <th>weight</th>\n",
       "      <th>id</th>\n",
       "    </tr>\n",
       "  </thead>\n",
       "  <tbody>\n",
       "    <tr>\n",
       "      <th>671</th>\n",
       "      <td>0</td>\n",
       "      <td>671</td>\n",
       "      <td>0.991537</td>\n",
       "      <td>671</td>\n",
       "    </tr>\n",
       "    <tr>\n",
       "      <th>2795</th>\n",
       "      <td>0</td>\n",
       "      <td>2795</td>\n",
       "      <td>0.990748</td>\n",
       "      <td>2795</td>\n",
       "    </tr>\n",
       "    <tr>\n",
       "      <th>2974</th>\n",
       "      <td>0</td>\n",
       "      <td>2974</td>\n",
       "      <td>0.990117</td>\n",
       "      <td>2974</td>\n",
       "    </tr>\n",
       "    <tr>\n",
       "      <th>6006</th>\n",
       "      <td>2</td>\n",
       "      <td>6</td>\n",
       "      <td>0.990817</td>\n",
       "      <td>6006</td>\n",
       "    </tr>\n",
       "    <tr>\n",
       "      <th>6016</th>\n",
       "      <td>2</td>\n",
       "      <td>16</td>\n",
       "      <td>0.990132</td>\n",
       "      <td>6016</td>\n",
       "    </tr>\n",
       "  </tbody>\n",
       "</table>\n",
       "</div>"
      ],
      "text/plain": [
       "      source  target    weight    id\n",
       "671        0     671  0.991537   671\n",
       "2795       0    2795  0.990748  2795\n",
       "2974       0    2974  0.990117  2974\n",
       "6006       2       6  0.990817  6006\n",
       "6016       2      16  0.990132  6016"
      ]
     },
     "execution_count": 83,
     "metadata": {},
     "output_type": "execute_result"
    }
   ],
   "source": [
    "high_value.head()"
   ]
  },
  {
   "cell_type": "code",
   "execution_count": 89,
   "metadata": {
    "collapsed": false
   },
   "outputs": [],
   "source": [
    "af_df = pd.DataFrame(af)"
   ]
  },
  {
   "cell_type": "code",
   "execution_count": 91,
   "metadata": {
    "collapsed": false
   },
   "outputs": [],
   "source": [
    "af_df[\"index\"] = af_df.index"
   ]
  },
  {
   "cell_type": "code",
   "execution_count": 94,
   "metadata": {
    "collapsed": false
   },
   "outputs": [],
   "source": [
    "af_df.columns = [\"label\",\"source\"]"
   ]
  },
  {
   "cell_type": "code",
   "execution_count": 97,
   "metadata": {
    "collapsed": false
   },
   "outputs": [],
   "source": [
    "high_value_label = pd.merge(af_df,high_value,on=\"source\")"
   ]
  },
  {
   "cell_type": "code",
   "execution_count": 98,
   "metadata": {
    "collapsed": false
   },
   "outputs": [
    {
     "data": {
      "text/plain": [
       "32858"
      ]
     },
     "execution_count": 98,
     "metadata": {},
     "output_type": "execute_result"
    }
   ],
   "source": [
    "len(high_value_label)"
   ]
  },
  {
   "cell_type": "code",
   "execution_count": null,
   "metadata": {
    "collapsed": false
   },
   "outputs": [],
   "source": [
    "popular_sources = high_value.groupby('source').count().sort_values(by='weight',ascending=False).target"
   ]
  },
  {
   "cell_type": "code",
   "execution_count": null,
   "metadata": {
    "collapsed": false
   },
   "outputs": [],
   "source": [
    "top_ten_revs = popular_sources.iloc[0:10]"
   ]
  },
  {
   "cell_type": "code",
   "execution_count": null,
   "metadata": {
    "collapsed": false
   },
   "outputs": [],
   "source": [
    "top_ten_rev_ids = [int(val) for val in list(top_ten_revs.keys())]"
   ]
  },
  {
   "cell_type": "code",
   "execution_count": null,
   "metadata": {
    "collapsed": false
   },
   "outputs": [],
   "source": [
    "top_ten_rev_ids"
   ]
  },
  {
   "cell_type": "code",
   "execution_count": 81,
   "metadata": {
    "collapsed": false
   },
   "outputs": [],
   "source": [
    "high_value[\"id\"] = high_value.index"
   ]
  },
  {
   "cell_type": "code",
   "execution_count": 82,
   "metadata": {
    "collapsed": false
   },
   "outputs": [],
   "source": [
    "high_value.columns = [\"source\", \"target\",\"weight\",\"id\"]"
   ]
  },
  {
   "cell_type": "code",
   "execution_count": 99,
   "metadata": {
    "collapsed": false
   },
   "outputs": [],
   "source": [
    "high_value_label.to_csv('high_value_label_gephi.csv')"
   ]
  },
  {
   "cell_type": "code",
   "execution_count": 100,
   "metadata": {
    "collapsed": false
   },
   "outputs": [
    {
     "data": {
      "text/html": [
       "<div>\n",
       "<table border=\"1\" class=\"dataframe\">\n",
       "  <thead>\n",
       "    <tr style=\"text-align: right;\">\n",
       "      <th></th>\n",
       "      <th>source</th>\n",
       "      <th>target</th>\n",
       "      <th>weight</th>\n",
       "      <th>id</th>\n",
       "    </tr>\n",
       "  </thead>\n",
       "  <tbody>\n",
       "    <tr>\n",
       "      <th>671</th>\n",
       "      <td>0</td>\n",
       "      <td>671</td>\n",
       "      <td>0.991537</td>\n",
       "      <td>671</td>\n",
       "    </tr>\n",
       "    <tr>\n",
       "      <th>2795</th>\n",
       "      <td>0</td>\n",
       "      <td>2795</td>\n",
       "      <td>0.990748</td>\n",
       "      <td>2795</td>\n",
       "    </tr>\n",
       "    <tr>\n",
       "      <th>2974</th>\n",
       "      <td>0</td>\n",
       "      <td>2974</td>\n",
       "      <td>0.990117</td>\n",
       "      <td>2974</td>\n",
       "    </tr>\n",
       "    <tr>\n",
       "      <th>6006</th>\n",
       "      <td>2</td>\n",
       "      <td>6</td>\n",
       "      <td>0.990817</td>\n",
       "      <td>6006</td>\n",
       "    </tr>\n",
       "    <tr>\n",
       "      <th>6016</th>\n",
       "      <td>2</td>\n",
       "      <td>16</td>\n",
       "      <td>0.990132</td>\n",
       "      <td>6016</td>\n",
       "    </tr>\n",
       "    <tr>\n",
       "      <th>6017</th>\n",
       "      <td>2</td>\n",
       "      <td>17</td>\n",
       "      <td>0.990670</td>\n",
       "      <td>6017</td>\n",
       "    </tr>\n",
       "    <tr>\n",
       "      <th>6025</th>\n",
       "      <td>2</td>\n",
       "      <td>25</td>\n",
       "      <td>0.990758</td>\n",
       "      <td>6025</td>\n",
       "    </tr>\n",
       "    <tr>\n",
       "      <th>6030</th>\n",
       "      <td>2</td>\n",
       "      <td>30</td>\n",
       "      <td>0.990196</td>\n",
       "      <td>6030</td>\n",
       "    </tr>\n",
       "    <tr>\n",
       "      <th>6031</th>\n",
       "      <td>2</td>\n",
       "      <td>31</td>\n",
       "      <td>0.992842</td>\n",
       "      <td>6031</td>\n",
       "    </tr>\n",
       "    <tr>\n",
       "      <th>6062</th>\n",
       "      <td>2</td>\n",
       "      <td>62</td>\n",
       "      <td>0.990339</td>\n",
       "      <td>6062</td>\n",
       "    </tr>\n",
       "    <tr>\n",
       "      <th>6090</th>\n",
       "      <td>2</td>\n",
       "      <td>90</td>\n",
       "      <td>0.993065</td>\n",
       "      <td>6090</td>\n",
       "    </tr>\n",
       "    <tr>\n",
       "      <th>6129</th>\n",
       "      <td>2</td>\n",
       "      <td>129</td>\n",
       "      <td>0.992362</td>\n",
       "      <td>6129</td>\n",
       "    </tr>\n",
       "    <tr>\n",
       "      <th>6160</th>\n",
       "      <td>2</td>\n",
       "      <td>160</td>\n",
       "      <td>0.990082</td>\n",
       "      <td>6160</td>\n",
       "    </tr>\n",
       "    <tr>\n",
       "      <th>6172</th>\n",
       "      <td>2</td>\n",
       "      <td>172</td>\n",
       "      <td>0.992693</td>\n",
       "      <td>6172</td>\n",
       "    </tr>\n",
       "    <tr>\n",
       "      <th>6224</th>\n",
       "      <td>2</td>\n",
       "      <td>224</td>\n",
       "      <td>0.990793</td>\n",
       "      <td>6224</td>\n",
       "    </tr>\n",
       "    <tr>\n",
       "      <th>6238</th>\n",
       "      <td>2</td>\n",
       "      <td>238</td>\n",
       "      <td>0.990126</td>\n",
       "      <td>6238</td>\n",
       "    </tr>\n",
       "    <tr>\n",
       "      <th>6267</th>\n",
       "      <td>2</td>\n",
       "      <td>267</td>\n",
       "      <td>0.991135</td>\n",
       "      <td>6267</td>\n",
       "    </tr>\n",
       "    <tr>\n",
       "      <th>6290</th>\n",
       "      <td>2</td>\n",
       "      <td>290</td>\n",
       "      <td>0.990820</td>\n",
       "      <td>6290</td>\n",
       "    </tr>\n",
       "    <tr>\n",
       "      <th>6292</th>\n",
       "      <td>2</td>\n",
       "      <td>292</td>\n",
       "      <td>0.991203</td>\n",
       "      <td>6292</td>\n",
       "    </tr>\n",
       "    <tr>\n",
       "      <th>6298</th>\n",
       "      <td>2</td>\n",
       "      <td>298</td>\n",
       "      <td>0.990536</td>\n",
       "      <td>6298</td>\n",
       "    </tr>\n",
       "    <tr>\n",
       "      <th>6331</th>\n",
       "      <td>2</td>\n",
       "      <td>331</td>\n",
       "      <td>0.991659</td>\n",
       "      <td>6331</td>\n",
       "    </tr>\n",
       "    <tr>\n",
       "      <th>6346</th>\n",
       "      <td>2</td>\n",
       "      <td>346</td>\n",
       "      <td>0.990662</td>\n",
       "      <td>6346</td>\n",
       "    </tr>\n",
       "    <tr>\n",
       "      <th>6369</th>\n",
       "      <td>2</td>\n",
       "      <td>369</td>\n",
       "      <td>0.991268</td>\n",
       "      <td>6369</td>\n",
       "    </tr>\n",
       "    <tr>\n",
       "      <th>6373</th>\n",
       "      <td>2</td>\n",
       "      <td>373</td>\n",
       "      <td>0.991675</td>\n",
       "      <td>6373</td>\n",
       "    </tr>\n",
       "    <tr>\n",
       "      <th>6386</th>\n",
       "      <td>2</td>\n",
       "      <td>386</td>\n",
       "      <td>0.990974</td>\n",
       "      <td>6386</td>\n",
       "    </tr>\n",
       "    <tr>\n",
       "      <th>6420</th>\n",
       "      <td>2</td>\n",
       "      <td>420</td>\n",
       "      <td>0.990100</td>\n",
       "      <td>6420</td>\n",
       "    </tr>\n",
       "    <tr>\n",
       "      <th>6435</th>\n",
       "      <td>2</td>\n",
       "      <td>435</td>\n",
       "      <td>0.991262</td>\n",
       "      <td>6435</td>\n",
       "    </tr>\n",
       "    <tr>\n",
       "      <th>6467</th>\n",
       "      <td>2</td>\n",
       "      <td>467</td>\n",
       "      <td>0.994180</td>\n",
       "      <td>6467</td>\n",
       "    </tr>\n",
       "    <tr>\n",
       "      <th>6482</th>\n",
       "      <td>2</td>\n",
       "      <td>482</td>\n",
       "      <td>0.992174</td>\n",
       "      <td>6482</td>\n",
       "    </tr>\n",
       "    <tr>\n",
       "      <th>6487</th>\n",
       "      <td>2</td>\n",
       "      <td>487</td>\n",
       "      <td>0.991932</td>\n",
       "      <td>6487</td>\n",
       "    </tr>\n",
       "    <tr>\n",
       "      <th>...</th>\n",
       "      <td>...</td>\n",
       "      <td>...</td>\n",
       "      <td>...</td>\n",
       "      <td>...</td>\n",
       "    </tr>\n",
       "    <tr>\n",
       "      <th>8998438</th>\n",
       "      <td>2999</td>\n",
       "      <td>1438</td>\n",
       "      <td>0.990750</td>\n",
       "      <td>8998438</td>\n",
       "    </tr>\n",
       "    <tr>\n",
       "      <th>8998460</th>\n",
       "      <td>2999</td>\n",
       "      <td>1460</td>\n",
       "      <td>0.990166</td>\n",
       "      <td>8998460</td>\n",
       "    </tr>\n",
       "    <tr>\n",
       "      <th>8998469</th>\n",
       "      <td>2999</td>\n",
       "      <td>1469</td>\n",
       "      <td>0.990493</td>\n",
       "      <td>8998469</td>\n",
       "    </tr>\n",
       "    <tr>\n",
       "      <th>8998590</th>\n",
       "      <td>2999</td>\n",
       "      <td>1590</td>\n",
       "      <td>0.991200</td>\n",
       "      <td>8998590</td>\n",
       "    </tr>\n",
       "    <tr>\n",
       "      <th>8998617</th>\n",
       "      <td>2999</td>\n",
       "      <td>1617</td>\n",
       "      <td>0.992759</td>\n",
       "      <td>8998617</td>\n",
       "    </tr>\n",
       "    <tr>\n",
       "      <th>8998620</th>\n",
       "      <td>2999</td>\n",
       "      <td>1620</td>\n",
       "      <td>0.991122</td>\n",
       "      <td>8998620</td>\n",
       "    </tr>\n",
       "    <tr>\n",
       "      <th>8998677</th>\n",
       "      <td>2999</td>\n",
       "      <td>1677</td>\n",
       "      <td>0.991490</td>\n",
       "      <td>8998677</td>\n",
       "    </tr>\n",
       "    <tr>\n",
       "      <th>8998730</th>\n",
       "      <td>2999</td>\n",
       "      <td>1730</td>\n",
       "      <td>0.990911</td>\n",
       "      <td>8998730</td>\n",
       "    </tr>\n",
       "    <tr>\n",
       "      <th>8998746</th>\n",
       "      <td>2999</td>\n",
       "      <td>1746</td>\n",
       "      <td>0.992439</td>\n",
       "      <td>8998746</td>\n",
       "    </tr>\n",
       "    <tr>\n",
       "      <th>8998803</th>\n",
       "      <td>2999</td>\n",
       "      <td>1803</td>\n",
       "      <td>0.990377</td>\n",
       "      <td>8998803</td>\n",
       "    </tr>\n",
       "    <tr>\n",
       "      <th>8998843</th>\n",
       "      <td>2999</td>\n",
       "      <td>1843</td>\n",
       "      <td>0.990054</td>\n",
       "      <td>8998843</td>\n",
       "    </tr>\n",
       "    <tr>\n",
       "      <th>8998855</th>\n",
       "      <td>2999</td>\n",
       "      <td>1855</td>\n",
       "      <td>0.990143</td>\n",
       "      <td>8998855</td>\n",
       "    </tr>\n",
       "    <tr>\n",
       "      <th>8998994</th>\n",
       "      <td>2999</td>\n",
       "      <td>1994</td>\n",
       "      <td>0.991234</td>\n",
       "      <td>8998994</td>\n",
       "    </tr>\n",
       "    <tr>\n",
       "      <th>8999100</th>\n",
       "      <td>2999</td>\n",
       "      <td>2100</td>\n",
       "      <td>0.991915</td>\n",
       "      <td>8999100</td>\n",
       "    </tr>\n",
       "    <tr>\n",
       "      <th>8999153</th>\n",
       "      <td>2999</td>\n",
       "      <td>2153</td>\n",
       "      <td>0.990237</td>\n",
       "      <td>8999153</td>\n",
       "    </tr>\n",
       "    <tr>\n",
       "      <th>8999226</th>\n",
       "      <td>2999</td>\n",
       "      <td>2226</td>\n",
       "      <td>0.990389</td>\n",
       "      <td>8999226</td>\n",
       "    </tr>\n",
       "    <tr>\n",
       "      <th>8999278</th>\n",
       "      <td>2999</td>\n",
       "      <td>2278</td>\n",
       "      <td>0.991119</td>\n",
       "      <td>8999278</td>\n",
       "    </tr>\n",
       "    <tr>\n",
       "      <th>8999328</th>\n",
       "      <td>2999</td>\n",
       "      <td>2328</td>\n",
       "      <td>0.991523</td>\n",
       "      <td>8999328</td>\n",
       "    </tr>\n",
       "    <tr>\n",
       "      <th>8999361</th>\n",
       "      <td>2999</td>\n",
       "      <td>2361</td>\n",
       "      <td>0.990391</td>\n",
       "      <td>8999361</td>\n",
       "    </tr>\n",
       "    <tr>\n",
       "      <th>8999435</th>\n",
       "      <td>2999</td>\n",
       "      <td>2435</td>\n",
       "      <td>0.990603</td>\n",
       "      <td>8999435</td>\n",
       "    </tr>\n",
       "    <tr>\n",
       "      <th>8999473</th>\n",
       "      <td>2999</td>\n",
       "      <td>2473</td>\n",
       "      <td>0.990960</td>\n",
       "      <td>8999473</td>\n",
       "    </tr>\n",
       "    <tr>\n",
       "      <th>8999528</th>\n",
       "      <td>2999</td>\n",
       "      <td>2528</td>\n",
       "      <td>0.991206</td>\n",
       "      <td>8999528</td>\n",
       "    </tr>\n",
       "    <tr>\n",
       "      <th>8999559</th>\n",
       "      <td>2999</td>\n",
       "      <td>2559</td>\n",
       "      <td>0.990978</td>\n",
       "      <td>8999559</td>\n",
       "    </tr>\n",
       "    <tr>\n",
       "      <th>8999666</th>\n",
       "      <td>2999</td>\n",
       "      <td>2666</td>\n",
       "      <td>0.990285</td>\n",
       "      <td>8999666</td>\n",
       "    </tr>\n",
       "    <tr>\n",
       "      <th>8999795</th>\n",
       "      <td>2999</td>\n",
       "      <td>2795</td>\n",
       "      <td>0.991385</td>\n",
       "      <td>8999795</td>\n",
       "    </tr>\n",
       "    <tr>\n",
       "      <th>8999837</th>\n",
       "      <td>2999</td>\n",
       "      <td>2837</td>\n",
       "      <td>0.990049</td>\n",
       "      <td>8999837</td>\n",
       "    </tr>\n",
       "    <tr>\n",
       "      <th>8999888</th>\n",
       "      <td>2999</td>\n",
       "      <td>2888</td>\n",
       "      <td>0.991469</td>\n",
       "      <td>8999888</td>\n",
       "    </tr>\n",
       "    <tr>\n",
       "      <th>8999907</th>\n",
       "      <td>2999</td>\n",
       "      <td>2907</td>\n",
       "      <td>0.992175</td>\n",
       "      <td>8999907</td>\n",
       "    </tr>\n",
       "    <tr>\n",
       "      <th>8999959</th>\n",
       "      <td>2999</td>\n",
       "      <td>2959</td>\n",
       "      <td>0.990750</td>\n",
       "      <td>8999959</td>\n",
       "    </tr>\n",
       "    <tr>\n",
       "      <th>8999972</th>\n",
       "      <td>2999</td>\n",
       "      <td>2972</td>\n",
       "      <td>0.990352</td>\n",
       "      <td>8999972</td>\n",
       "    </tr>\n",
       "  </tbody>\n",
       "</table>\n",
       "<p>32858 rows × 4 columns</p>\n",
       "</div>"
      ],
      "text/plain": [
       "         source  target    weight       id\n",
       "671           0     671  0.991537      671\n",
       "2795          0    2795  0.990748     2795\n",
       "2974          0    2974  0.990117     2974\n",
       "6006          2       6  0.990817     6006\n",
       "6016          2      16  0.990132     6016\n",
       "6017          2      17  0.990670     6017\n",
       "6025          2      25  0.990758     6025\n",
       "6030          2      30  0.990196     6030\n",
       "6031          2      31  0.992842     6031\n",
       "6062          2      62  0.990339     6062\n",
       "6090          2      90  0.993065     6090\n",
       "6129          2     129  0.992362     6129\n",
       "6160          2     160  0.990082     6160\n",
       "6172          2     172  0.992693     6172\n",
       "6224          2     224  0.990793     6224\n",
       "6238          2     238  0.990126     6238\n",
       "6267          2     267  0.991135     6267\n",
       "6290          2     290  0.990820     6290\n",
       "6292          2     292  0.991203     6292\n",
       "6298          2     298  0.990536     6298\n",
       "6331          2     331  0.991659     6331\n",
       "6346          2     346  0.990662     6346\n",
       "6369          2     369  0.991268     6369\n",
       "6373          2     373  0.991675     6373\n",
       "6386          2     386  0.990974     6386\n",
       "6420          2     420  0.990100     6420\n",
       "6435          2     435  0.991262     6435\n",
       "6467          2     467  0.994180     6467\n",
       "6482          2     482  0.992174     6482\n",
       "6487          2     487  0.991932     6487\n",
       "...         ...     ...       ...      ...\n",
       "8998438    2999    1438  0.990750  8998438\n",
       "8998460    2999    1460  0.990166  8998460\n",
       "8998469    2999    1469  0.990493  8998469\n",
       "8998590    2999    1590  0.991200  8998590\n",
       "8998617    2999    1617  0.992759  8998617\n",
       "8998620    2999    1620  0.991122  8998620\n",
       "8998677    2999    1677  0.991490  8998677\n",
       "8998730    2999    1730  0.990911  8998730\n",
       "8998746    2999    1746  0.992439  8998746\n",
       "8998803    2999    1803  0.990377  8998803\n",
       "8998843    2999    1843  0.990054  8998843\n",
       "8998855    2999    1855  0.990143  8998855\n",
       "8998994    2999    1994  0.991234  8998994\n",
       "8999100    2999    2100  0.991915  8999100\n",
       "8999153    2999    2153  0.990237  8999153\n",
       "8999226    2999    2226  0.990389  8999226\n",
       "8999278    2999    2278  0.991119  8999278\n",
       "8999328    2999    2328  0.991523  8999328\n",
       "8999361    2999    2361  0.990391  8999361\n",
       "8999435    2999    2435  0.990603  8999435\n",
       "8999473    2999    2473  0.990960  8999473\n",
       "8999528    2999    2528  0.991206  8999528\n",
       "8999559    2999    2559  0.990978  8999559\n",
       "8999666    2999    2666  0.990285  8999666\n",
       "8999795    2999    2795  0.991385  8999795\n",
       "8999837    2999    2837  0.990049  8999837\n",
       "8999888    2999    2888  0.991469  8999888\n",
       "8999907    2999    2907  0.992175  8999907\n",
       "8999959    2999    2959  0.990750  8999959\n",
       "8999972    2999    2972  0.990352  8999972\n",
       "\n",
       "[32858 rows x 4 columns]"
      ]
     },
     "execution_count": 100,
     "metadata": {},
     "output_type": "execute_result"
    }
   ],
   "source": [
    "high_value"
   ]
  },
  {
   "cell_type": "code",
   "execution_count": null,
   "metadata": {
    "collapsed": true
   },
   "outputs": [],
   "source": []
  },
  {
   "cell_type": "code",
   "execution_count": null,
   "metadata": {
    "collapsed": false
   },
   "outputs": [],
   "source": [
    "high_value = d[d[2] > .98]"
   ]
  },
  {
   "cell_type": "code",
   "execution_count": null,
   "metadata": {
    "collapsed": false
   },
   "outputs": [],
   "source": [
    "len(d)"
   ]
  },
  {
   "cell_type": "code",
   "execution_count": null,
   "metadata": {
    "collapsed": false
   },
   "outputs": [],
   "source": [
    "len(high_value)"
   ]
  },
  {
   "cell_type": "code",
   "execution_count": null,
   "metadata": {
    "collapsed": true
   },
   "outputs": [],
   "source": [
    "d.head()"
   ]
  },
  {
   "cell_type": "code",
   "execution_count": 4,
   "metadata": {
    "collapsed": true
   },
   "outputs": [],
   "source": [
    "rows, row_pos = np.unique(datum[:, 0], return_inverse=True)\n",
    "cols, col_pos = np.unique(datum[:, 1], return_inverse=True)\n",
    "\n",
    "pivot_table = np.zeros((len(rows), len(cols)), dtype=datum.dtype)\n",
    "pivot_table[row_pos, col_pos] = datum[:, 2]"
   ]
  },
  {
   "cell_type": "code",
   "execution_count": 5,
   "metadata": {
    "collapsed": false
   },
   "outputs": [],
   "source": [
    "t = pd.DataFrame(pivot_table)"
   ]
  },
  {
   "cell_type": "markdown",
   "metadata": {},
   "source": [
    "# Cluster Analysis"
   ]
  },
  {
   "cell_type": "markdown",
   "metadata": {},
   "source": [
    "### Spectral Clustering"
   ]
  },
  {
   "cell_type": "code",
   "execution_count": null,
   "metadata": {
    "collapsed": false
   },
   "outputs": [],
   "source": [
    "import numpy as np\n",
    "from sklearn.cluster import SpectralClustering\n",
    "# mat = np.matrix([[1.,.1,.6,.4],[.1,1.,.1,.2],[.6,.1,1.,.7],[.4,.2,.7,1.]])\n",
    "mat_clust = SpectralClustering(n_clusters=50,affinity='precomputed').fit_predict(t)"
   ]
  },
  {
   "cell_type": "code",
   "execution_count": null,
   "metadata": {
    "collapsed": false
   },
   "outputs": [],
   "source": [
    "cols"
   ]
  },
  {
   "cell_type": "markdown",
   "metadata": {},
   "source": [
    "### DBSCAN"
   ]
  },
  {
   "cell_type": "code",
   "execution_count": null,
   "metadata": {
    "collapsed": false
   },
   "outputs": [],
   "source": [
    "from sklearn.cluster import DBSCAN\n",
    "DBSCAN(metric='precomputed').fit_predict(t)"
   ]
  },
  {
   "cell_type": "markdown",
   "metadata": {},
   "source": [
    "### affinity propagation clustering algorithm"
   ]
  },
  {
   "cell_type": "code",
   "execution_count": 6,
   "metadata": {
    "collapsed": true
   },
   "outputs": [],
   "source": [
    "from sklearn.cluster import AffinityPropagation\n",
    "from sklearn import metrics\n",
    "from sklearn.datasets.samples_generator import make_blobs"
   ]
  },
  {
   "cell_type": "code",
   "execution_count": 7,
   "metadata": {
    "collapsed": false
   },
   "outputs": [],
   "source": [
    "af = AffinityPropagation(affinity='precomputed').fit_predict(t)"
   ]
  },
  {
   "cell_type": "code",
   "execution_count": 101,
   "metadata": {
    "collapsed": false
   },
   "outputs": [],
   "source": [
    "af_df2 = pd.DataFrame(af)\n",
    "af_df2[\"index\"] = af_df2.index"
   ]
  },
  {
   "cell_type": "code",
   "execution_count": 105,
   "metadata": {
    "collapsed": false
   },
   "outputs": [],
   "source": [
    "af_df2.columns = [\"label\",\"source\"]\n",
    "af_df2.to_csv('nodes.csv')"
   ]
  },
  {
   "cell_type": "code",
   "execution_count": 63,
   "metadata": {
    "collapsed": false
   },
   "outputs": [
    {
     "data": {
      "text/html": [
       "<div>\n",
       "<table border=\"1\" class=\"dataframe\">\n",
       "  <thead>\n",
       "    <tr style=\"text-align: right;\">\n",
       "      <th></th>\n",
       "      <th>groups</th>\n",
       "      <th>e</th>\n",
       "    </tr>\n",
       "  </thead>\n",
       "  <tbody>\n",
       "    <tr>\n",
       "      <th>0</th>\n",
       "      <td>155</td>\n",
       "      <td>136</td>\n",
       "    </tr>\n",
       "    <tr>\n",
       "      <th>1</th>\n",
       "      <td>34</td>\n",
       "      <td>98</td>\n",
       "    </tr>\n",
       "    <tr>\n",
       "      <th>2</th>\n",
       "      <td>58</td>\n",
       "      <td>97</td>\n",
       "    </tr>\n",
       "    <tr>\n",
       "      <th>3</th>\n",
       "      <td>30</td>\n",
       "      <td>93</td>\n",
       "    </tr>\n",
       "    <tr>\n",
       "      <th>4</th>\n",
       "      <td>42</td>\n",
       "      <td>88</td>\n",
       "    </tr>\n",
       "    <tr>\n",
       "      <th>5</th>\n",
       "      <td>116</td>\n",
       "      <td>86</td>\n",
       "    </tr>\n",
       "    <tr>\n",
       "      <th>6</th>\n",
       "      <td>209</td>\n",
       "      <td>86</td>\n",
       "    </tr>\n",
       "    <tr>\n",
       "      <th>7</th>\n",
       "      <td>170</td>\n",
       "      <td>86</td>\n",
       "    </tr>\n",
       "    <tr>\n",
       "      <th>8</th>\n",
       "      <td>2</td>\n",
       "      <td>80</td>\n",
       "    </tr>\n",
       "    <tr>\n",
       "      <th>9</th>\n",
       "      <td>229</td>\n",
       "      <td>80</td>\n",
       "    </tr>\n",
       "  </tbody>\n",
       "</table>\n",
       "</div>"
      ],
      "text/plain": [
       "   groups    e\n",
       "0     155  136\n",
       "1      34   98\n",
       "2      58   97\n",
       "3      30   93\n",
       "4      42   88\n",
       "5     116   86\n",
       "6     209   86\n",
       "7     170   86\n",
       "8       2   80\n",
       "9     229   80"
      ]
     },
     "execution_count": 63,
     "metadata": {},
     "output_type": "execute_result"
    }
   ],
   "source": [
    "import matplotlib.pyplot as plt\n",
    "%matplotlib inline\n",
    "ax = pd.DataFrame(af) #.sort_values(by=0,ascending=False).hist(bins=100)\n",
    "# ax.ylabel('x')\n",
    "ax.columns=[\"groups\"]#.groupby(0)#.count()\n",
    "ax[\"e\"] = ax.groups\n",
    "ax.groupby('groups').count().sort_values(by=\"e\",ascending=False).reset_index().iloc[0:10] #.plot(kind='bar')#.hist(bins=100)\n",
    "# plt.tick_params(\n",
    "#     axis='x',          # changes apply to the x-axis\n",
    "#     which='both',      # both major and minor ticks are affected\n",
    "#     bottom='off',      # ticks along the bottom edge are off\n",
    "#     top='off',         # ticks along the top edge are off\n",
    "#     labelbottom='off') # labels along the bottom edge are off\n",
    "# # ax.xticks(None)\n",
    "# # ax#.groupby('groups')\n",
    "# # ax.hist(bins=300)\n",
    "# plt.title('Histogram of Cluster Sizes Determined by Affinity Propagation')\n",
    "# plt.ylabel('Number of Reviews in Cluster Groups')\n",
    "# plt.xlabel('Distinct Clusters')\n",
    "# plt.legend().set_visible(False)\n",
    "# plt.savefig('AffinityPropagationClusterHistogram2.jpg')"
   ]
  },
  {
   "cell_type": "code",
   "execution_count": null,
   "metadata": {
    "collapsed": true
   },
   "outputs": [],
   "source": []
  },
  {
   "cell_type": "code",
   "execution_count": 75,
   "metadata": {
    "collapsed": false
   },
   "outputs": [],
   "source": [
    "smaller_clusters = ax[~ax.groups.isin([34,155,58,30,42,116,209,170,2,229])]"
   ]
  },
  {
   "cell_type": "code",
   "execution_count": 77,
   "metadata": {
    "collapsed": false
   },
   "outputs": [
    {
     "data": {
      "text/html": [
       "<div>\n",
       "<table border=\"1\" class=\"dataframe\">\n",
       "  <thead>\n",
       "    <tr style=\"text-align: right;\">\n",
       "      <th></th>\n",
       "      <th>groups</th>\n",
       "      <th>e</th>\n",
       "    </tr>\n",
       "  </thead>\n",
       "  <tbody>\n",
       "    <tr>\n",
       "      <th>0</th>\n",
       "      <td>316</td>\n",
       "      <td>316</td>\n",
       "    </tr>\n",
       "    <tr>\n",
       "      <th>79</th>\n",
       "      <td>316</td>\n",
       "      <td>316</td>\n",
       "    </tr>\n",
       "    <tr>\n",
       "      <th>147</th>\n",
       "      <td>316</td>\n",
       "      <td>316</td>\n",
       "    </tr>\n",
       "    <tr>\n",
       "      <th>219</th>\n",
       "      <td>316</td>\n",
       "      <td>316</td>\n",
       "    </tr>\n",
       "    <tr>\n",
       "      <th>273</th>\n",
       "      <td>316</td>\n",
       "      <td>316</td>\n",
       "    </tr>\n",
       "    <tr>\n",
       "      <th>397</th>\n",
       "      <td>316</td>\n",
       "      <td>316</td>\n",
       "    </tr>\n",
       "    <tr>\n",
       "      <th>406</th>\n",
       "      <td>316</td>\n",
       "      <td>316</td>\n",
       "    </tr>\n",
       "    <tr>\n",
       "      <th>490</th>\n",
       "      <td>316</td>\n",
       "      <td>316</td>\n",
       "    </tr>\n",
       "    <tr>\n",
       "      <th>616</th>\n",
       "      <td>316</td>\n",
       "      <td>316</td>\n",
       "    </tr>\n",
       "    <tr>\n",
       "      <th>631</th>\n",
       "      <td>316</td>\n",
       "      <td>316</td>\n",
       "    </tr>\n",
       "    <tr>\n",
       "      <th>657</th>\n",
       "      <td>316</td>\n",
       "      <td>316</td>\n",
       "    </tr>\n",
       "    <tr>\n",
       "      <th>716</th>\n",
       "      <td>316</td>\n",
       "      <td>316</td>\n",
       "    </tr>\n",
       "    <tr>\n",
       "      <th>1202</th>\n",
       "      <td>316</td>\n",
       "      <td>316</td>\n",
       "    </tr>\n",
       "    <tr>\n",
       "      <th>1248</th>\n",
       "      <td>316</td>\n",
       "      <td>316</td>\n",
       "    </tr>\n",
       "    <tr>\n",
       "      <th>1260</th>\n",
       "      <td>316</td>\n",
       "      <td>316</td>\n",
       "    </tr>\n",
       "    <tr>\n",
       "      <th>1432</th>\n",
       "      <td>316</td>\n",
       "      <td>316</td>\n",
       "    </tr>\n",
       "    <tr>\n",
       "      <th>1554</th>\n",
       "      <td>316</td>\n",
       "      <td>316</td>\n",
       "    </tr>\n",
       "    <tr>\n",
       "      <th>1643</th>\n",
       "      <td>316</td>\n",
       "      <td>316</td>\n",
       "    </tr>\n",
       "    <tr>\n",
       "      <th>1676</th>\n",
       "      <td>316</td>\n",
       "      <td>316</td>\n",
       "    </tr>\n",
       "    <tr>\n",
       "      <th>1678</th>\n",
       "      <td>316</td>\n",
       "      <td>316</td>\n",
       "    </tr>\n",
       "    <tr>\n",
       "      <th>1690</th>\n",
       "      <td>316</td>\n",
       "      <td>316</td>\n",
       "    </tr>\n",
       "    <tr>\n",
       "      <th>1700</th>\n",
       "      <td>316</td>\n",
       "      <td>316</td>\n",
       "    </tr>\n",
       "    <tr>\n",
       "      <th>1778</th>\n",
       "      <td>316</td>\n",
       "      <td>316</td>\n",
       "    </tr>\n",
       "    <tr>\n",
       "      <th>1828</th>\n",
       "      <td>316</td>\n",
       "      <td>316</td>\n",
       "    </tr>\n",
       "    <tr>\n",
       "      <th>1898</th>\n",
       "      <td>316</td>\n",
       "      <td>316</td>\n",
       "    </tr>\n",
       "    <tr>\n",
       "      <th>1900</th>\n",
       "      <td>316</td>\n",
       "      <td>316</td>\n",
       "    </tr>\n",
       "    <tr>\n",
       "      <th>1932</th>\n",
       "      <td>316</td>\n",
       "      <td>316</td>\n",
       "    </tr>\n",
       "    <tr>\n",
       "      <th>2214</th>\n",
       "      <td>316</td>\n",
       "      <td>316</td>\n",
       "    </tr>\n",
       "    <tr>\n",
       "      <th>2245</th>\n",
       "      <td>316</td>\n",
       "      <td>316</td>\n",
       "    </tr>\n",
       "    <tr>\n",
       "      <th>2299</th>\n",
       "      <td>316</td>\n",
       "      <td>316</td>\n",
       "    </tr>\n",
       "    <tr>\n",
       "      <th>2326</th>\n",
       "      <td>316</td>\n",
       "      <td>316</td>\n",
       "    </tr>\n",
       "    <tr>\n",
       "      <th>2357</th>\n",
       "      <td>316</td>\n",
       "      <td>316</td>\n",
       "    </tr>\n",
       "    <tr>\n",
       "      <th>2375</th>\n",
       "      <td>316</td>\n",
       "      <td>316</td>\n",
       "    </tr>\n",
       "    <tr>\n",
       "      <th>2412</th>\n",
       "      <td>316</td>\n",
       "      <td>316</td>\n",
       "    </tr>\n",
       "    <tr>\n",
       "      <th>2466</th>\n",
       "      <td>316</td>\n",
       "      <td>316</td>\n",
       "    </tr>\n",
       "    <tr>\n",
       "      <th>2498</th>\n",
       "      <td>316</td>\n",
       "      <td>316</td>\n",
       "    </tr>\n",
       "    <tr>\n",
       "      <th>2836</th>\n",
       "      <td>316</td>\n",
       "      <td>316</td>\n",
       "    </tr>\n",
       "    <tr>\n",
       "      <th>2866</th>\n",
       "      <td>316</td>\n",
       "      <td>316</td>\n",
       "    </tr>\n",
       "    <tr>\n",
       "      <th>2908</th>\n",
       "      <td>316</td>\n",
       "      <td>316</td>\n",
       "    </tr>\n",
       "    <tr>\n",
       "      <th>2967</th>\n",
       "      <td>316</td>\n",
       "      <td>316</td>\n",
       "    </tr>\n",
       "  </tbody>\n",
       "</table>\n",
       "</div>"
      ],
      "text/plain": [
       "      groups    e\n",
       "0        316  316\n",
       "79       316  316\n",
       "147      316  316\n",
       "219      316  316\n",
       "273      316  316\n",
       "397      316  316\n",
       "406      316  316\n",
       "490      316  316\n",
       "616      316  316\n",
       "631      316  316\n",
       "657      316  316\n",
       "716      316  316\n",
       "1202     316  316\n",
       "1248     316  316\n",
       "1260     316  316\n",
       "1432     316  316\n",
       "1554     316  316\n",
       "1643     316  316\n",
       "1676     316  316\n",
       "1678     316  316\n",
       "1690     316  316\n",
       "1700     316  316\n",
       "1778     316  316\n",
       "1828     316  316\n",
       "1898     316  316\n",
       "1900     316  316\n",
       "1932     316  316\n",
       "2214     316  316\n",
       "2245     316  316\n",
       "2299     316  316\n",
       "2326     316  316\n",
       "2357     316  316\n",
       "2375     316  316\n",
       "2412     316  316\n",
       "2466     316  316\n",
       "2498     316  316\n",
       "2836     316  316\n",
       "2866     316  316\n",
       "2908     316  316\n",
       "2967     316  316"
      ]
     },
     "execution_count": 77,
     "metadata": {},
     "output_type": "execute_result"
    }
   ],
   "source": [
    "smaller_clusters[smaller_clusters.groups == 316]"
   ]
  },
  {
   "cell_type": "markdown",
   "metadata": {},
   "source": [
    "## Spectral Clustering"
   ]
  },
  {
   "cell_type": "code",
   "execution_count": null,
   "metadata": {
    "collapsed": true
   },
   "outputs": [],
   "source": [
    "spectral = cluster.SpectralClustering(n_clusters=2,\n",
    "                                          eigen_solver='arpack',\n",
    "                                          affinity=\"nearest_neighbors\")"
   ]
  },
  {
   "cell_type": "code",
   "execution_count": null,
   "metadata": {
    "collapsed": true
   },
   "outputs": [],
   "source": []
  },
  {
   "cell_type": "code",
   "execution_count": null,
   "metadata": {
    "collapsed": true
   },
   "outputs": [],
   "source": []
  },
  {
   "cell_type": "code",
   "execution_count": null,
   "metadata": {
    "collapsed": true
   },
   "outputs": [],
   "source": []
  },
  {
   "cell_type": "code",
   "execution_count": null,
   "metadata": {
    "collapsed": false
   },
   "outputs": [],
   "source": [
    "res = pd.DataFrame(af)\n",
    "res_89 = res[res[0] == 89]\n",
    "indexes = list(res_89.index)\n"
   ]
  },
  {
   "cell_type": "code",
   "execution_count": null,
   "metadata": {
    "collapsed": false
   },
   "outputs": [],
   "source": [
    "res.to_pickle('affinity_prop.pkl')"
   ]
  },
  {
   "cell_type": "code",
   "execution_count": null,
   "metadata": {
    "collapsed": false
   },
   "outputs": [],
   "source": [
    "n_clusters_ = len(cluster_centers_indices)\n",
    "\n",
    "print('Estimated number of clusters: %d' % n_clusters_)\n",
    "print(\"Silhouette Coefficient: %0.3f\"\n",
    "      % metrics.silhouette_score(t, labels, metric='precomputed'))"
   ]
  },
  {
   "cell_type": "code",
   "execution_count": null,
   "metadata": {
    "collapsed": true
   },
   "outputs": [],
   "source": [
    "\"\"\"\n",
    "=========================================================\n",
    "Comparing different clustering algorithms on toy datasets\n",
    "=========================================================\n",
    "\n",
    "This example aims at showing characteristics of different\n",
    "clustering algorithms on datasets that are \"interesting\"\n",
    "but still in 2D. The last dataset is an example of a 'null'\n",
    "situation for clustering: the data is homogeneous, and\n",
    "there is no good clustering.\n",
    "\n",
    "While these examples give some intuition about the algorithms,\n",
    "this intuition might not apply to very high dimensional data.\n",
    "\n",
    "The results could be improved by tweaking the parameters for\n",
    "each clustering strategy, for instance setting the number of\n",
    "clusters for the methods that needs this parameter\n",
    "specified. Note that affinity propagation has a tendency to\n",
    "create many clusters. Thus in this example its two parameters\n",
    "(damping and per-point preference) were set to to mitigate this\n",
    "behavior.\n",
    "\"\"\"\n",
    "# print(__doc__)\n",
    "\n",
    "import time\n",
    "%matplotlib inline\n",
    "import numpy as np\n",
    "import matplotlib.pyplot as plt\n",
    "\n",
    "from sklearn import cluster, datasets\n",
    "from sklearn.neighbors import kneighbors_graph\n",
    "from sklearn.preprocessing import StandardScaler\n",
    "\n",
    "np.random.seed(0)"
   ]
  },
  {
   "cell_type": "code",
   "execution_count": null,
   "metadata": {
    "collapsed": true
   },
   "outputs": [],
   "source": [
    "# Generate datasets. We choose the size big enough to see the scalability\n",
    "# of the algorithms, but not too big to avoid too long running times\n",
    "n_samples = 1500\n",
    "noisy_circles = datasets.make_circles(n_samples=n_samples, factor=.5,\n",
    "                                      noise=.05)\n",
    "noisy_moons = datasets.make_moons(n_samples=n_samples, noise=.05)\n",
    "blobs = datasets.make_blobs(n_samples=n_samples, random_state=8)\n",
    "no_structure = np.random.rand(n_samples, 2), None\n",
    "\n",
    "colors = np.array([x for x in 'bgrcmykbgrcmykbgrcmykbgrcmyk'])\n",
    "colors = np.hstack([colors] * 20)\n",
    "\n",
    "clustering_names = [\n",
    "    'MiniBatchKMeans', 'AffinityPropagation', 'MeanShift',\n",
    "    'SpectralClustering', 'Ward', 'AgglomerativeClustering',\n",
    "    'DBSCAN', 'Birch']"
   ]
  },
  {
   "cell_type": "code",
   "execution_count": null,
   "metadata": {
    "collapsed": false
   },
   "outputs": [],
   "source": [
    "noisy_moons"
   ]
  },
  {
   "cell_type": "code",
   "execution_count": null,
   "metadata": {
    "collapsed": false
   },
   "outputs": [],
   "source": [
    "plt.figure(figsize=(len(clustering_names) * 2 + 3, 9.5))\n",
    "plt.subplots_adjust(left=.02, right=.98, bottom=.001, top=.96, wspace=.05,\n",
    "                    hspace=.01)\n",
    "\n",
    "plot_num = 1\n",
    "\n",
    "datasets = [noisy_circles, noisy_moons, blobs, no_structure]\n",
    "for i_dataset, dataset in enumerate(datasets):\n",
    "    X, y = dataset\n",
    "    # normalize dataset for easier parameter selection\n",
    "    X = StandardScaler().fit_transform(X)\n",
    "\n",
    "    # estimate bandwidth for mean shift\n",
    "    bandwidth = cluster.estimate_bandwidth(X, quantile=0.3)\n",
    "\n",
    "    # connectivity matrix for structured Ward\n",
    "    connectivity = kneighbors_graph(X, n_neighbors=10, include_self=False)\n",
    "    # make connectivity symmetric\n",
    "    connectivity = 0.5 * (connectivity + connectivity.T)\n",
    "\n",
    "    # create clustering estimators\n",
    "    ms = cluster.MeanShift(bandwidth=bandwidth, bin_seeding=True)\n",
    "    two_means = cluster.MiniBatchKMeans(n_clusters=2)\n",
    "    ward = cluster.AgglomerativeClustering(n_clusters=2, linkage='ward',\n",
    "                                           connectivity=connectivity)\n",
    "    spectral = cluster.SpectralClustering(n_clusters=2,\n",
    "                                          eigen_solver='arpack',\n",
    "                                          affinity=\"nearest_neighbors\")\n",
    "    dbscan = cluster.DBSCAN(eps=.2)\n",
    "    affinity_propagation = cluster.AffinityPropagation(damping=.9,\n",
    "                                                       preference=-200)\n",
    "\n",
    "    average_linkage = cluster.AgglomerativeClustering(\n",
    "        linkage=\"average\", affinity=\"cityblock\", n_clusters=2,\n",
    "        connectivity=connectivity)\n",
    "\n",
    "    birch = cluster.Birch(n_clusters=2)\n",
    "    clustering_algorithms = [\n",
    "        two_means, affinity_propagation, ms, spectral, ward, average_linkage,\n",
    "        dbscan, birch]\n",
    "\n",
    "    for name, algorithm in zip(clustering_names, clustering_algorithms):\n",
    "        # predict cluster memberships\n",
    "        t0 = time.time()\n",
    "        algorithm.fit(X)\n",
    "        t1 = time.time()\n",
    "        if hasattr(algorithm, 'labels_'):\n",
    "            y_pred = algorithm.labels_.astype(np.int)\n",
    "        else:\n",
    "            y_pred = algorithm.predict(X)\n",
    "\n",
    "        # plot\n",
    "        plt.subplot(4, len(clustering_algorithms), plot_num)\n",
    "        if i_dataset == 0:\n",
    "            plt.title(name, size=18)\n",
    "        plt.scatter(X[:, 0], X[:, 1], color=colors[y_pred].tolist(), s=10)\n",
    "\n",
    "        if hasattr(algorithm, 'cluster_centers_'):\n",
    "            centers = algorithm.cluster_centers_\n",
    "            center_colors = colors[:len(centers)]\n",
    "            plt.scatter(centers[:, 0], centers[:, 1], s=100, c=center_colors)\n",
    "        plt.xlim(-2, 2)\n",
    "        plt.ylim(-2, 2)\n",
    "        plt.xticks(())\n",
    "        plt.yticks(())\n",
    "        plt.text(.99, .01, ('%.2fs' % (t1 - t0)).lstrip('0'),\n",
    "                 transform=plt.gca().transAxes, size=15,\n",
    "                 horizontalalignment='right')\n",
    "        plot_num += 1\n",
    "\n",
    "plt.show()"
   ]
  },
  {
   "cell_type": "code",
   "execution_count": null,
   "metadata": {
    "collapsed": true
   },
   "outputs": [],
   "source": []
  }
 ],
 "metadata": {
  "kernelspec": {
   "display_name": "Python 3",
   "language": "python",
   "name": "python3"
  },
  "language_info": {
   "codemirror_mode": {
    "name": "ipython",
    "version": 3
   },
   "file_extension": ".py",
   "mimetype": "text/x-python",
   "name": "python",
   "nbconvert_exporter": "python",
   "pygments_lexer": "ipython3",
   "version": "3.5.1"
  }
 },
 "nbformat": 4,
 "nbformat_minor": 0
}
