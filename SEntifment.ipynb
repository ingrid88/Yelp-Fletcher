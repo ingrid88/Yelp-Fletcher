{
 "cells": [
  {
   "cell_type": "code",
   "execution_count": 1,
   "metadata": {
    "collapsed": true
   },
   "outputs": [],
   "source": [
    "# from vaderSentiment.vaderSentiment import sentiment as vaderSentiment\n",
    "    #note: depending on how you installed (e.g., using source code download versus pip install), you may need to import like this:\n",
    "    #from vaderSentiment.vaderSentiment import sentiment as vaderSentiment\n",
    "\n",
    "# --- example sentences -------\n",
    "sentences = [\n",
    "            \"VADER is smart, handsome, and funny.\",       # positive sentence example\n",
    "            \"VADER is smart, handsome, and funny!\",       # punctuation emphasis handled correctly (sentiment intensity adjusted)\n",
    "            \"VADER is very smart, handsome, and funny.\",  # booster words handled correctly (sentiment intensity adjusted)\n",
    "            \"VADER is VERY SMART, handsome, and FUNNY.\",  # emphasis for ALLCAPS handled\n",
    "            \"VADER is VERY SMART, handsome, and FUNNY!!!\",# combination of signals - VADER appropriately adjusts intensity\n",
    "            \"VADER is VERY SMART, really handsome, and INCREDIBLY FUNNY!!!\",# booster words & punctuation make this close to ceiling for score\n",
    "            \"The book was good.\",         # positive sentence\n",
    "            \"The book was kind of good.\", # qualified positive sentence is handled correctly (intensity adjusted)\n",
    "            \"The plot was good, but the characters are uncompelling and the dialog is not great.\", # mixed negation sentence\n",
    "            \"A really bad, horrible book.\",       # negative sentence with booster words\n",
    "            \"At least it isn't a horrible book.\", # negated negative sentence with contraction\n",
    "            \":) and :D\",     # emoticons handled\n",
    "            \"\",              # an empty string is correctly handled\n",
    "            \"Today sux\",     #  negative slang handled\n",
    "            \"Today sux!\",    #  negative slang with punctuation emphasis handled\n",
    "            \"Today SUX!\",    #  negative slang with capitalization emphasis\n",
    "            \"Today kinda sux! But I'll get by, lol\" # mixed sentiment example with slang and constrastive conjunction \"but\"\n",
    "             ]"
   ]
  },
  {
   "cell_type": "code",
   "execution_count": 2,
   "metadata": {
    "collapsed": false
   },
   "outputs": [],
   "source": [
    "import pandas as pd"
   ]
  },
  {
   "cell_type": "code",
   "execution_count": 3,
   "metadata": {
    "collapsed": false
   },
   "outputs": [
    {
     "data": {
      "text/html": [
       "<div>\n",
       "<table border=\"1\" class=\"dataframe\">\n",
       "  <thead>\n",
       "    <tr style=\"text-align: right;\">\n",
       "      <th></th>\n",
       "      <th>0</th>\n",
       "    </tr>\n",
       "  </thead>\n",
       "  <tbody>\n",
       "    <tr>\n",
       "      <th>0</th>\n",
       "      <td>VADER is smart, handsome, and funny.</td>\n",
       "    </tr>\n",
       "    <tr>\n",
       "      <th>1</th>\n",
       "      <td>VADER is smart, handsome, and funny!</td>\n",
       "    </tr>\n",
       "    <tr>\n",
       "      <th>2</th>\n",
       "      <td>VADER is very smart, handsome, and funny.</td>\n",
       "    </tr>\n",
       "    <tr>\n",
       "      <th>3</th>\n",
       "      <td>VADER is VERY SMART, handsome, and FUNNY.</td>\n",
       "    </tr>\n",
       "    <tr>\n",
       "      <th>4</th>\n",
       "      <td>VADER is VERY SMART, handsome, and FUNNY!!!</td>\n",
       "    </tr>\n",
       "    <tr>\n",
       "      <th>5</th>\n",
       "      <td>VADER is VERY SMART, really handsome, and INCR...</td>\n",
       "    </tr>\n",
       "    <tr>\n",
       "      <th>6</th>\n",
       "      <td>The book was good.</td>\n",
       "    </tr>\n",
       "    <tr>\n",
       "      <th>7</th>\n",
       "      <td>The book was kind of good.</td>\n",
       "    </tr>\n",
       "    <tr>\n",
       "      <th>8</th>\n",
       "      <td>The plot was good, but the characters are unco...</td>\n",
       "    </tr>\n",
       "    <tr>\n",
       "      <th>9</th>\n",
       "      <td>A really bad, horrible book.</td>\n",
       "    </tr>\n",
       "    <tr>\n",
       "      <th>10</th>\n",
       "      <td>At least it isn't a horrible book.</td>\n",
       "    </tr>\n",
       "    <tr>\n",
       "      <th>11</th>\n",
       "      <td>:) and :D</td>\n",
       "    </tr>\n",
       "    <tr>\n",
       "      <th>12</th>\n",
       "      <td></td>\n",
       "    </tr>\n",
       "    <tr>\n",
       "      <th>13</th>\n",
       "      <td>Today sux</td>\n",
       "    </tr>\n",
       "    <tr>\n",
       "      <th>14</th>\n",
       "      <td>Today sux!</td>\n",
       "    </tr>\n",
       "    <tr>\n",
       "      <th>15</th>\n",
       "      <td>Today SUX!</td>\n",
       "    </tr>\n",
       "    <tr>\n",
       "      <th>16</th>\n",
       "      <td>Today kinda sux! But I'll get by, lol</td>\n",
       "    </tr>\n",
       "  </tbody>\n",
       "</table>\n",
       "</div>"
      ],
      "text/plain": [
       "                                                    0\n",
       "0                VADER is smart, handsome, and funny.\n",
       "1                VADER is smart, handsome, and funny!\n",
       "2           VADER is very smart, handsome, and funny.\n",
       "3           VADER is VERY SMART, handsome, and FUNNY.\n",
       "4         VADER is VERY SMART, handsome, and FUNNY!!!\n",
       "5   VADER is VERY SMART, really handsome, and INCR...\n",
       "6                                  The book was good.\n",
       "7                          The book was kind of good.\n",
       "8   The plot was good, but the characters are unco...\n",
       "9                        A really bad, horrible book.\n",
       "10                 At least it isn't a horrible book.\n",
       "11                                          :) and :D\n",
       "12                                                   \n",
       "13                                          Today sux\n",
       "14                                         Today sux!\n",
       "15                                         Today SUX!\n",
       "16              Today kinda sux! But I'll get by, lol"
      ]
     },
     "execution_count": 3,
     "metadata": {},
     "output_type": "execute_result"
    }
   ],
   "source": [
    "df = pd.DataFrame(sentences)\n",
    "df"
   ]
  },
  {
   "cell_type": "code",
   "execution_count": 12,
   "metadata": {
    "collapsed": false
   },
   "outputs": [],
   "source": [
    "from vaderSentiment.vaderSentiment import sentiment as vaderSentiment\n",
    "df[\"vader\"] = df[0].apply(lambda sentence: vaderSentiment(sentence))"
   ]
  },
  {
   "cell_type": "code",
   "execution_count": 10,
   "metadata": {
    "collapsed": false
   },
   "outputs": [
    {
     "data": {
      "text/plain": [
       "{'compound': 0.8316, 'neg': 0.0, 'neu': 0.254, 'pos': 0.746}"
      ]
     },
     "execution_count": 10,
     "metadata": {},
     "output_type": "execute_result"
    }
   ],
   "source": [
    "df.vader[0]"
   ]
  },
  {
   "cell_type": "code",
   "execution_count": null,
   "metadata": {
    "collapsed": false
   },
   "outputs": [],
   "source": [
    "for sentence in sentences:\n",
    "    print( sentence)\n",
    "    vs = sentiment(sentence)\n",
    "    print( \"\\n\\t\" + str(vs))"
   ]
  },
  {
   "cell_type": "code",
   "execution_count": 11,
   "metadata": {
    "collapsed": false
   },
   "outputs": [
    {
     "data": {
      "text/html": [
       "<div>\n",
       "<table border=\"1\" class=\"dataframe\">\n",
       "  <thead>\n",
       "    <tr style=\"text-align: right;\">\n",
       "      <th></th>\n",
       "      <th>0</th>\n",
       "      <th>vader</th>\n",
       "    </tr>\n",
       "  </thead>\n",
       "  <tbody>\n",
       "    <tr>\n",
       "      <th>0</th>\n",
       "      <td>VADER is smart, handsome, and funny.</td>\n",
       "      <td>{u'neg': 0.0, u'neu': 0.254, u'pos': 0.746, u'...</td>\n",
       "    </tr>\n",
       "    <tr>\n",
       "      <th>1</th>\n",
       "      <td>VADER is smart, handsome, and funny!</td>\n",
       "      <td>{u'neg': 0.0, u'neu': 0.248, u'pos': 0.752, u'...</td>\n",
       "    </tr>\n",
       "    <tr>\n",
       "      <th>2</th>\n",
       "      <td>VADER is very smart, handsome, and funny.</td>\n",
       "      <td>{u'neg': 0.0, u'neu': 0.299, u'pos': 0.701, u'...</td>\n",
       "    </tr>\n",
       "    <tr>\n",
       "      <th>3</th>\n",
       "      <td>VADER is VERY SMART, handsome, and FUNNY.</td>\n",
       "      <td>{u'neg': 0.0, u'neu': 0.246, u'pos': 0.754, u'...</td>\n",
       "    </tr>\n",
       "    <tr>\n",
       "      <th>4</th>\n",
       "      <td>VADER is VERY SMART, handsome, and FUNNY!!!</td>\n",
       "      <td>{u'neg': 0.0, u'neu': 0.233, u'pos': 0.767, u'...</td>\n",
       "    </tr>\n",
       "    <tr>\n",
       "      <th>5</th>\n",
       "      <td>VADER is VERY SMART, really handsome, and INCR...</td>\n",
       "      <td>{u'neg': 0.0, u'neu': 0.294, u'pos': 0.706, u'...</td>\n",
       "    </tr>\n",
       "    <tr>\n",
       "      <th>6</th>\n",
       "      <td>The book was good.</td>\n",
       "      <td>{u'neg': 0.0, u'neu': 0.508, u'pos': 0.492, u'...</td>\n",
       "    </tr>\n",
       "    <tr>\n",
       "      <th>7</th>\n",
       "      <td>The book was kind of good.</td>\n",
       "      <td>{u'neg': 0.0, u'neu': 0.657, u'pos': 0.343, u'...</td>\n",
       "    </tr>\n",
       "    <tr>\n",
       "      <th>8</th>\n",
       "      <td>The plot was good, but the characters are unco...</td>\n",
       "      <td>{u'neg': 0.327, u'neu': 0.579, u'pos': 0.094, ...</td>\n",
       "    </tr>\n",
       "    <tr>\n",
       "      <th>9</th>\n",
       "      <td>A really bad, horrible book.</td>\n",
       "      <td>{u'neg': 0.791, u'neu': 0.209, u'pos': 0.0, u'...</td>\n",
       "    </tr>\n",
       "    <tr>\n",
       "      <th>10</th>\n",
       "      <td>At least it isn't a horrible book.</td>\n",
       "      <td>{u'neg': 0.0, u'neu': 0.637, u'pos': 0.363, u'...</td>\n",
       "    </tr>\n",
       "    <tr>\n",
       "      <th>11</th>\n",
       "      <td>:) and :D</td>\n",
       "      <td>{u'neg': 0.0, u'neu': 0.124, u'pos': 0.876, u'...</td>\n",
       "    </tr>\n",
       "    <tr>\n",
       "      <th>12</th>\n",
       "      <td></td>\n",
       "      <td>{u'neg': 0.0, u'neu': 0.0, u'pos': 0.0, u'comp...</td>\n",
       "    </tr>\n",
       "    <tr>\n",
       "      <th>13</th>\n",
       "      <td>Today sux</td>\n",
       "      <td>{u'neg': 0.714, u'neu': 0.286, u'pos': 0.0, u'...</td>\n",
       "    </tr>\n",
       "    <tr>\n",
       "      <th>14</th>\n",
       "      <td>Today sux!</td>\n",
       "      <td>{u'neg': 0.736, u'neu': 0.264, u'pos': 0.0, u'...</td>\n",
       "    </tr>\n",
       "    <tr>\n",
       "      <th>15</th>\n",
       "      <td>Today SUX!</td>\n",
       "      <td>{u'neg': 0.779, u'neu': 0.221, u'pos': 0.0, u'...</td>\n",
       "    </tr>\n",
       "    <tr>\n",
       "      <th>16</th>\n",
       "      <td>Today kinda sux! But I'll get by, lol</td>\n",
       "      <td>{u'neg': 0.195, u'neu': 0.531, u'pos': 0.274, ...</td>\n",
       "    </tr>\n",
       "  </tbody>\n",
       "</table>\n",
       "</div>"
      ],
      "text/plain": [
       "                                                    0  \\\n",
       "0                VADER is smart, handsome, and funny.   \n",
       "1                VADER is smart, handsome, and funny!   \n",
       "2           VADER is very smart, handsome, and funny.   \n",
       "3           VADER is VERY SMART, handsome, and FUNNY.   \n",
       "4         VADER is VERY SMART, handsome, and FUNNY!!!   \n",
       "5   VADER is VERY SMART, really handsome, and INCR...   \n",
       "6                                  The book was good.   \n",
       "7                          The book was kind of good.   \n",
       "8   The plot was good, but the characters are unco...   \n",
       "9                        A really bad, horrible book.   \n",
       "10                 At least it isn't a horrible book.   \n",
       "11                                          :) and :D   \n",
       "12                                                      \n",
       "13                                          Today sux   \n",
       "14                                         Today sux!   \n",
       "15                                         Today SUX!   \n",
       "16              Today kinda sux! But I'll get by, lol   \n",
       "\n",
       "                                                vader  \n",
       "0   {u'neg': 0.0, u'neu': 0.254, u'pos': 0.746, u'...  \n",
       "1   {u'neg': 0.0, u'neu': 0.248, u'pos': 0.752, u'...  \n",
       "2   {u'neg': 0.0, u'neu': 0.299, u'pos': 0.701, u'...  \n",
       "3   {u'neg': 0.0, u'neu': 0.246, u'pos': 0.754, u'...  \n",
       "4   {u'neg': 0.0, u'neu': 0.233, u'pos': 0.767, u'...  \n",
       "5   {u'neg': 0.0, u'neu': 0.294, u'pos': 0.706, u'...  \n",
       "6   {u'neg': 0.0, u'neu': 0.508, u'pos': 0.492, u'...  \n",
       "7   {u'neg': 0.0, u'neu': 0.657, u'pos': 0.343, u'...  \n",
       "8   {u'neg': 0.327, u'neu': 0.579, u'pos': 0.094, ...  \n",
       "9   {u'neg': 0.791, u'neu': 0.209, u'pos': 0.0, u'...  \n",
       "10  {u'neg': 0.0, u'neu': 0.637, u'pos': 0.363, u'...  \n",
       "11  {u'neg': 0.0, u'neu': 0.124, u'pos': 0.876, u'...  \n",
       "12  {u'neg': 0.0, u'neu': 0.0, u'pos': 0.0, u'comp...  \n",
       "13  {u'neg': 0.714, u'neu': 0.286, u'pos': 0.0, u'...  \n",
       "14  {u'neg': 0.736, u'neu': 0.264, u'pos': 0.0, u'...  \n",
       "15  {u'neg': 0.779, u'neu': 0.221, u'pos': 0.0, u'...  \n",
       "16  {u'neg': 0.195, u'neu': 0.531, u'pos': 0.274, ...  "
      ]
     },
     "execution_count": 11,
     "metadata": {},
     "output_type": "execute_result"
    }
   ],
   "source": [
    "df.va"
   ]
  },
  {
   "cell_type": "code",
   "execution_count": null,
   "metadata": {
    "collapsed": true
   },
   "outputs": [],
   "source": []
  }
 ],
 "metadata": {
  "kernelspec": {
   "display_name": "Python 2",
   "language": "python",
   "name": "python2"
  },
  "language_info": {
   "codemirror_mode": {
    "name": "ipython",
    "version": 2
   },
   "file_extension": ".py",
   "mimetype": "text/x-python",
   "name": "python",
   "nbconvert_exporter": "python",
   "pygments_lexer": "ipython2",
   "version": "2.7.11"
  }
 },
 "nbformat": 4,
 "nbformat_minor": 0
}
